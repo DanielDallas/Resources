{
  "nbformat": 4,
  "nbformat_minor": 0,
  "metadata": {
    "colab": {
      "name": "week3.ipynb",
      "version": "0.3.2",
      "views": {},
      "default_view": {},
      "provenance": []
    },
    "kernelspec": {
      "name": "python3",
      "display_name": "Python 3"
    }
  },
  "cells": [
    {
      "metadata": {
        "id": "iNf5ntgAyp0B",
        "colab_type": "text"
      },
      "cell_type": "markdown",
      "source": [
        "Linear Regression with  birth_rate_2010.txt\n"
      ]
    },
    {
      "metadata": {
        "id": "ZEUAqBGeyo7P",
        "colab_type": "code",
        "colab": {
          "autoexec": {
            "startup": false,
            "wait_interval": 0
          },
          "base_uri": "https://localhost:8080/",
          "height": 204
        },
        "outputId": "155ecb84-108c-414e-a4e6-e5a6d23f32c2",
        "executionInfo": {
          "status": "ok",
          "timestamp": 1528152135186,
          "user_tz": -60,
          "elapsed": 2086,
          "user": {
            "displayName": "George Igwegbe",
            "photoUrl": "//lh3.googleusercontent.com/-VGzYC8aUsgY/AAAAAAAAAAI/AAAAAAAAAs8/5fZKxSg6fJs/s50-c-k-no/photo.jpg",
            "userId": "117677675546471076295"
          }
        }
      },
      "cell_type": "code",
      "source": [
        "!wget https://github.com/chiphuyen/stanford-tensorflow-tutorials/blob/master/examples/data/birth_life_2010.txt"
      ],
      "execution_count": 3,
      "outputs": [
        {
          "output_type": "stream",
          "text": [
            "--2018-06-04 22:42:16--  https://github.com/chiphuyen/stanford-tensorflow-tutorials/blob/master/examples/data/birth_life_2010.txt\r\n",
            "Resolving github.com (github.com)... 192.30.253.112, 192.30.253.113\r\n",
            "Connecting to github.com (github.com)|192.30.253.112|:443... connected.\n",
            "HTTP request sent, awaiting response... 200 OK\n",
            "Length: unspecified [text/html]\n",
            "Saving to: ‘birth_life_2010.txt’\n",
            "\n",
            "birth_life_2010.txt     [ <=>                ]  76.58K  --.-KB/s    in 0.03s   \n",
            "\n",
            "2018-06-04 22:42:17 (2.66 MB/s) - ‘birth_life_2010.txt’ saved [78423]\n",
            "\n"
          ],
          "name": "stdout"
        }
      ]
    },
    {
      "metadata": {
        "id": "lXDcCYUVyceK",
        "colab_type": "text"
      },
      "cell_type": "markdown",
      "source": [
        "Logistic regression with MNIST"
      ]
    },
    {
      "metadata": {
        "id": "kCwztj8MybvE",
        "colab_type": "code",
        "colab": {
          "autoexec": {
            "startup": false,
            "wait_interval": 0
          }
        }
      },
      "cell_type": "code",
      "source": [
        "#https://github.com/yunjey/pytorch-tutorial/blob/master/tutorials/01-basics/logistic_regression/main.py#L33-L34"
      ],
      "execution_count": 0,
      "outputs": []
    },
    {
      "metadata": {
        "id": "-_J1yopbyR3x",
        "colab_type": "text"
      },
      "cell_type": "markdown",
      "source": [
        "PyTorch with Tensorboard\n"
      ]
    },
    {
      "metadata": {
        "id": "xziwB4kOyW9k",
        "colab_type": "code",
        "colab": {
          "autoexec": {
            "startup": false,
            "wait_interval": 0
          }
        }
      },
      "cell_type": "code",
      "source": [
        "#https://github.com/yunjey/pytorch-tutorial/blob/master/tutorials/04-utils/tensorboard/main.py"
      ],
      "execution_count": 0,
      "outputs": []
    }
  ]
}
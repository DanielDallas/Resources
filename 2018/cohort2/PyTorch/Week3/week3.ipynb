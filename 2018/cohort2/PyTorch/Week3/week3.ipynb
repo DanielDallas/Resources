{
  "nbformat": 4,
  "nbformat_minor": 0,
  "metadata": {
    "colab": {
      "name": "week3.ipynb",
      "version": "0.3.2",
      "views": {},
      "default_view": {},
      "provenance": []
    },
    "kernelspec": {
      "name": "python3",
      "display_name": "Python 3"
    }
  },
  "cells": [
    {
      "metadata": {
        "id": "iNf5ntgAyp0B",
        "colab_type": "text"
      },
      "cell_type": "markdown",
      "source": [
        "Linear Regression with  birth_rate_2010.txt\n"
      ]
    },
    {
      "metadata": {
        "id": "ZEUAqBGeyo7P",
        "colab_type": "code",
        "colab": {
          "autoexec": {
            "startup": false,
            "wait_interval": 0
          },
          "base_uri": "https://localhost:8080/",
          "height": 204
        },
        "outputId": "969f1a6d-830f-40bb-dadd-e0222c790a5a",
        "executionInfo": {
          "status": "ok",
          "timestamp": 1528231129818,
          "user_tz": -60,
          "elapsed": 2342,
          "user": {
            "displayName": "George Igwegbe",
            "photoUrl": "//lh3.googleusercontent.com/-VGzYC8aUsgY/AAAAAAAAAAI/AAAAAAAAAs8/5fZKxSg6fJs/s50-c-k-no/photo.jpg",
            "userId": "117677675546471076295"
          }
        }
      },
      "cell_type": "code",
      "source": [
        "!wget https://github.com/chiphuyen/stanford-tensorflow-tutorials/blob/master/examples/data/birth_life_2010.txt"
      ],
      "execution_count": 1,
      "outputs": [
        {
          "output_type": "stream",
          "text": [
            "--2018-06-05 20:38:48--  https://github.com/chiphuyen/stanford-tensorflow-tutorials/blob/master/examples/data/birth_life_2010.txt\r\n",
            "Resolving github.com (github.com)... 192.30.255.113, 192.30.255.112\r\n",
            "Connecting to github.com (github.com)|192.30.255.113|:443... connected.\n",
            "HTTP request sent, awaiting response... 200 OK\n",
            "Length: unspecified [text/html]\n",
            "Saving to: ‘birth_life_2010.txt’\n",
            "\n",
            "birth_life_2010.txt     [ <=>                ]  76.59K  --.-KB/s    in 0.07s   \n",
            "\n",
            "2018-06-05 20:38:49 (1.09 MB/s) - ‘birth_life_2010.txt’ saved [78433]\n",
            "\n"
          ],
          "name": "stdout"
        }
      ]
    },
    {
      "metadata": {
        "id": "3gdeKroRELq8",
        "colab_type": "code",
        "colab": {
          "autoexec": {
            "startup": false,
            "wait_interval": 0
          },
          "base_uri": "https://localhost:8080/",
          "height": 102
        },
        "outputId": "82fd1ebc-6a87-4028-83e0-1aff9a3fc005",
        "executionInfo": {
          "status": "ok",
          "timestamp": 1528237723989,
          "user_tz": -60,
          "elapsed": 6707,
          "user": {
            "displayName": "George Igwegbe",
            "photoUrl": "//lh3.googleusercontent.com/-VGzYC8aUsgY/AAAAAAAAAAI/AAAAAAAAAs8/5fZKxSg6fJs/s50-c-k-no/photo.jpg",
            "userId": "117677675546471076295"
          }
        }
      },
      "cell_type": "code",
      "source": [
        "! git clone https://github.com/chiphuyen/stanford-tensorflow-tutorials.git"
      ],
      "execution_count": 63,
      "outputs": [
        {
          "output_type": "stream",
          "text": [
            "Cloning into 'stanford-tensorflow-tutorials'...\n",
            "remote: Counting objects: 635, done.\u001b[K\n",
            "remote: Total 635 (delta 0), reused 0 (delta 0), pack-reused 635\u001b[K\n",
            "Receiving objects: 100% (635/635), 15.85 MiB | 27.69 MiB/s, done.\n",
            "Resolving deltas: 100% (274/274), done.\n"
          ],
          "name": "stdout"
        }
      ]
    },
    {
      "metadata": {
        "id": "B8bdrK-5ER8v",
        "colab_type": "code",
        "colab": {
          "autoexec": {
            "startup": false,
            "wait_interval": 0
          },
          "base_uri": "https://localhost:8080/",
          "height": 34
        },
        "outputId": "882aa36f-bcaa-43e5-9b6a-b7c5a6ca6ca2",
        "executionInfo": {
          "status": "ok",
          "timestamp": 1528237788425,
          "user_tz": -60,
          "elapsed": 1763,
          "user": {
            "displayName": "George Igwegbe",
            "photoUrl": "//lh3.googleusercontent.com/-VGzYC8aUsgY/AAAAAAAAAAI/AAAAAAAAAs8/5fZKxSg6fJs/s50-c-k-no/photo.jpg",
            "userId": "117677675546471076295"
          }
        }
      },
      "cell_type": "code",
      "source": [
        "ls"
      ],
      "execution_count": 70,
      "outputs": [
        {
          "output_type": "stream",
          "text": [
            "abstracts.txt  birth_life_2010.txt  trump_tweets.txt\r\n"
          ],
          "name": "stdout"
        }
      ]
    },
    {
      "metadata": {
        "id": "iYASn1cT7WnK",
        "colab_type": "code",
        "colab": {
          "autoexec": {
            "startup": false,
            "wait_interval": 0
          }
        }
      },
      "cell_type": "code",
      "source": [
        "from os import path\n",
        "from wheel.pep425tags import get_abbr_impl, get_impl_ver, get_abi_tag\n",
        "platform = '{}{}-{}'.format(get_abbr_impl(), get_impl_ver(), get_abi_tag())\n",
        "\n",
        "accelerator = 'cu80' if path.exists('/opt/bin/nvidia-smi') else 'cpu'\n",
        "\n",
        "!pip install -q http://download.pytorch.org/whl/{accelerator}/torch-0.3.0.post4-{platform}-linux_x86_64.whl torchvision\n"
      ],
      "execution_count": 0,
      "outputs": []
    },
    {
      "metadata": {
        "id": "Cb3c6p6h7bf8",
        "colab_type": "code",
        "colab": {
          "autoexec": {
            "startup": false,
            "wait_interval": 0
          }
        }
      },
      "cell_type": "code",
      "source": [
        "import torch\n",
        "from torch.utils.data import Dataset, DataLoader"
      ],
      "execution_count": 0,
      "outputs": []
    },
    {
      "metadata": {
        "id": "lXDcCYUVyceK",
        "colab_type": "text"
      },
      "cell_type": "markdown",
      "source": [
        "Logistic regression with MNIST"
      ]
    },
    {
      "metadata": {
        "id": "HmrRJVNwrIb-",
        "colab_type": "code",
        "colab": {
          "autoexec": {
            "startup": false,
            "wait_interval": 0
          }
        }
      },
      "cell_type": "code",
      "source": [
        "import numpy as np\n",
        "from io import BytesIO"
      ],
      "execution_count": 0,
      "outputs": []
    },
    {
      "metadata": {
        "id": "r7WeoCSmBMiT",
        "colab_type": "code",
        "colab": {
          "autoexec": {
            "startup": false,
            "wait_interval": 0
          }
        }
      },
      "cell_type": "code",
      "source": [
        "fp = 'birth_life_2010.txt'"
      ],
      "execution_count": 0,
      "outputs": []
    },
    {
      "metadata": {
        "id": "HGO-8-vorIkt",
        "colab_type": "code",
        "colab": {
          "autoexec": {
            "startup": false,
            "wait_interval": 0
          }
        }
      },
      "cell_type": "code",
      "source": [
        "data = np.genfromtxt('birth_life_2010.txt', delimiter='\\t',usecols=(1,2), skip_header=1)"
      ],
      "execution_count": 0,
      "outputs": []
    },
    {
      "metadata": {
        "id": "8RWcfrPDEq09",
        "colab_type": "code",
        "colab": {
          "autoexec": {
            "startup": false,
            "wait_interval": 0
          },
          "base_uri": "https://localhost:8080/",
          "height": 34
        },
        "outputId": "13bde1ae-683f-4e16-9b1e-ae9ce56d60c5",
        "executionInfo": {
          "status": "ok",
          "timestamp": 1528238376803,
          "user_tz": -60,
          "elapsed": 644,
          "user": {
            "displayName": "George Igwegbe",
            "photoUrl": "//lh3.googleusercontent.com/-VGzYC8aUsgY/AAAAAAAAAAI/AAAAAAAAAs8/5fZKxSg6fJs/s50-c-k-no/photo.jpg",
            "userId": "117677675546471076295"
          }
        }
      },
      "cell_type": "code",
      "source": [
        "data[1]"
      ],
      "execution_count": 96,
      "outputs": [
        {
          "output_type": "execute_result",
          "data": {
            "text/plain": [
              "array([ 3.869    , 70.8194878])"
            ]
          },
          "metadata": {
            "tags": []
          },
          "execution_count": 96
        }
      ]
    },
    {
      "metadata": {
        "id": "BXxqSpBq-Fbc",
        "colab_type": "code",
        "colab": {
          "autoexec": {
            "startup": false,
            "wait_interval": 0
          }
        }
      },
      "cell_type": "code",
      "source": [
        "#Todo: Restructure the class\n",
        "class myData(Dataset):\n",
        "  def __init__(self):\n",
        "#      self.len = train_x.shape[0]\n",
        "      data, n_sample = read_birth_life_data(datafile)\n",
        "      # convert to torch tensor\n",
        "      self.x_data = torch.from_numpy(data[:,0]).float()\n",
        "      self.y_data = torch.from_numpy(data[:,1]).float()\n",
        "      \n",
        "  \n",
        "  def __getitem__(self,index):\n",
        "      return self.x_data[index], self.y_data[index]\n",
        "    \n",
        "  def __len__(self):\n",
        "      return self.len"
      ],
      "execution_count": 0,
      "outputs": []
    },
    {
      "metadata": {
        "id": "hvLHQ0cX-Fq3",
        "colab_type": "code",
        "colab": {
          "autoexec": {
            "startup": false,
            "wait_interval": 0
          }
        }
      },
      "cell_type": "code",
      "source": [
        "myDataInstance = myData()"
      ],
      "execution_count": 0,
      "outputs": []
    },
    {
      "metadata": {
        "id": "s5999XR1K9pS",
        "colab_type": "code",
        "colab": {
          "autoexec": {
            "startup": false,
            "wait_interval": 0
          },
          "base_uri": "https://localhost:8080/",
          "height": 51
        },
        "outputId": "8aa10545-3eff-41ab-a5e7-8f47344a1f36",
        "executionInfo": {
          "status": "ok",
          "timestamp": 1528242614882,
          "user_tz": -60,
          "elapsed": 664,
          "user": {
            "displayName": "George Igwegbe",
            "photoUrl": "//lh3.googleusercontent.com/-VGzYC8aUsgY/AAAAAAAAAAI/AAAAAAAAAs8/5fZKxSg6fJs/s50-c-k-no/photo.jpg",
            "userId": "117677675546471076295"
          }
        }
      },
      "cell_type": "code",
      "source": [
        "Nigeria = data[159]\n",
        "print(Nigeria)\n",
        "print(data.shape)"
      ],
      "execution_count": 176,
      "outputs": [
        {
          "output_type": "stream",
          "text": [
            "[ 5.525      51.41002439]\n",
            "(190, 2)\n"
          ],
          "name": "stdout"
        }
      ]
    },
    {
      "metadata": {
        "id": "HwhqXvr-SLHP",
        "colab_type": "code",
        "colab": {
          "autoexec": {
            "startup": false,
            "wait_interval": 0
          },
          "base_uri": "https://localhost:8080/",
          "height": 34
        },
        "outputId": "882d5690-0fff-49fc-e859-5d9a0b7503d5",
        "executionInfo": {
          "status": "ok",
          "timestamp": 1528241441401,
          "user_tz": -60,
          "elapsed": 607,
          "user": {
            "displayName": "George Igwegbe",
            "photoUrl": "//lh3.googleusercontent.com/-VGzYC8aUsgY/AAAAAAAAAAI/AAAAAAAAAs8/5fZKxSg6fJs/s50-c-k-no/photo.jpg",
            "userId": "117677675546471076295"
          }
        }
      },
      "cell_type": "code",
      "source": [
        "China = data[21]\n",
        "print(China)"
      ],
      "execution_count": 156,
      "outputs": [
        {
          "output_type": "stream",
          "text": [
            "[ 1.108      82.87804878]\n"
          ],
          "name": "stdout"
        }
      ]
    },
    {
      "metadata": {
        "id": "_b7sfgP2SrBT",
        "colab_type": "code",
        "colab": {
          "autoexec": {
            "startup": false,
            "wait_interval": 0
          }
        }
      },
      "cell_type": "code",
      "source": [
        "India = data[21]\n",
        "print(India)"
      ],
      "execution_count": 0,
      "outputs": []
    },
    {
      "metadata": {
        "id": "sVixPMSNSyZt",
        "colab_type": "code",
        "colab": {
          "autoexec": {
            "startup": false,
            "wait_interval": 0
          },
          "base_uri": "https://localhost:8080/",
          "height": 34
        },
        "outputId": "742f6dae-5d2d-4d96-b9b2-e11deb1bf9f1",
        "executionInfo": {
          "status": "ok",
          "timestamp": 1528241569250,
          "user_tz": -60,
          "elapsed": 1368,
          "user": {
            "displayName": "George Igwegbe",
            "photoUrl": "//lh3.googleusercontent.com/-VGzYC8aUsgY/AAAAAAAAAAI/AAAAAAAAAs8/5fZKxSg6fJs/s50-c-k-no/photo.jpg",
            "userId": "117677675546471076295"
          }
        }
      },
      "cell_type": "code",
      "source": [
        "Japan = data[19]\n",
        "print(Japan)"
      ],
      "execution_count": 162,
      "outputs": [
        {
          "output_type": "stream",
          "text": [
            "[ 1.39       82.93268293]\n"
          ],
          "name": "stdout"
        }
      ]
    },
    {
      "metadata": {
        "id": "E5nfGQjUICDi",
        "colab_type": "code",
        "colab": {
          "autoexec": {
            "startup": false,
            "wait_interval": 0
          }
        }
      },
      "cell_type": "code",
      "source": [
        "import matplotlib.pyplot as plt"
      ],
      "execution_count": 0,
      "outputs": []
    },
    {
      "metadata": {
        "id": "YbXIzFtYPy-3",
        "colab_type": "code",
        "colab": {
          "autoexec": {
            "startup": false,
            "wait_interval": 0
          },
          "base_uri": "https://localhost:8080/",
          "height": 564
        },
        "outputId": "62645c14-a1ba-449c-c583-d51205ba3f8f",
        "executionInfo": {
          "status": "ok",
          "timestamp": 1528242982816,
          "user_tz": -60,
          "elapsed": 1014,
          "user": {
            "displayName": "George Igwegbe",
            "photoUrl": "//lh3.googleusercontent.com/-VGzYC8aUsgY/AAAAAAAAAAI/AAAAAAAAAs8/5fZKxSg6fJs/s50-c-k-no/photo.jpg",
            "userId": "117677675546471076295"
          }
        }
      },
      "cell_type": "code",
      "source": [
        "\n",
        "# Plotting example dataset# Plottin \n",
        "plt.figure(figsize = (20,4),dpi=150)\n",
        "plt.subplot(121)\n",
        "plt.scatter(myDataInstance.y_data,myDataInstance.x_data)\n",
        "\n",
        "# Country with data\n",
        "plt.scatter(myDataInstance.y_data[159],myDataInstance.x_data[159], color='red') # Nigeria\n",
        "plt.scatter(myDataInstance.y_data[21],myDataInstance.x_data[21], color='black') # China\n",
        "plt.scatter(myDataInstance.y_data[141],myDataInstance.x_data[141], color='purple') # India\n",
        "plt.scatter(myDataInstance.y_data[19],myDataInstance.x_data[19], color='green') # Japan\n",
        "\n",
        "# Axis label\n",
        "plt.ylabel(\"Birth Rate\")\n",
        "plt.xlabel(\"Life Expectancy\")\n",
        "plt.show()"
      ],
      "execution_count": 179,
      "outputs": [
        {
          "output_type": "display_data",
          "data": {
            "image/png": "[encoded data removed]",
            "text/plain": [
              "<matplotlib.figure.Figure at 0x7fe3f7c87710>"
            ]
          },
          "metadata": {
            "tags": []
          }
        }
      ]
    },
    {
      "metadata": {
        "id": "YeRblfgnHLH2",
        "colab_type": "code",
        "colab": {
          "autoexec": {
            "startup": false,
            "wait_interval": 0
          }
        }
      },
      "cell_type": "code",
      "source": [
        ""
      ],
      "execution_count": 0,
      "outputs": []
    },
    {
      "metadata": {
        "id": "J2ABdzwdrI0l",
        "colab_type": "code",
        "colab": {
          "autoexec": {
            "startup": false,
            "wait_interval": 0
          }
        }
      },
      "cell_type": "code",
      "source": [
        ""
      ],
      "execution_count": 0,
      "outputs": []
    },
    {
      "metadata": {
        "id": "kCwztj8MybvE",
        "colab_type": "code",
        "colab": {
          "autoexec": {
            "startup": false,
            "wait_interval": 0
          }
        }
      },
      "cell_type": "code",
      "source": [
        "#https://github.com/yunjey/pytorch-tutorial/blob/master/tutorials/01-basics/logistic_regression/main.py#L33-L34\n",
        "#https://github.com/MagaliDrumare/How-to-learn-PyTorch-NN-CNN-RNN-LSTM/blob/master/04-Logistic%20Regression.ipynb"
      ],
      "execution_count": 0,
      "outputs": []
    },
    {
      "metadata": {
        "id": "-_J1yopbyR3x",
        "colab_type": "text"
      },
      "cell_type": "markdown",
      "source": [
        "PyTorch with Tensorboard\n"
      ]
    },
    {
      "metadata": {
        "id": "xziwB4kOyW9k",
        "colab_type": "code",
        "colab": {
          "autoexec": {
            "startup": false,
            "wait_interval": 0
          }
        }
      },
      "cell_type": "code",
      "source": [
        "#https://github.com/yunjey/pytorch-tutorial/blob/master/tutorials/04-utils/tensorboard/main.py"
      ],
      "execution_count": 0,
      "outputs": []
    }
  ]
}
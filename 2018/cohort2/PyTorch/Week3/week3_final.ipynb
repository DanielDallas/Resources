{
  "nbformat": 4,
  "nbformat_minor": 0,
  "metadata": {
    "colab": {
      "name": "week3_final.ipynb",
      "version": "0.3.2",
      "views": {},
      "default_view": {},
      "provenance": []
    },
    "kernelspec": {
      "name": "python3",
      "display_name": "Python 3"
    }
  },
  "cells": [
    {
      "metadata": {
        "id": "s5pTnAijeoIm",
        "colab_type": "text"
      },
      "cell_type": "markdown",
      "source": [
        "# **Week 3** : Linear regression"
      ]
    },
    {
      "metadata": {
        "id": "QhePxMnoe8_G",
        "colab_type": "text"
      },
      "cell_type": "markdown",
      "source": [
        "Clone the AISaturdaysLagos Resources repo.\n",
        "\n",
        "Navigate to the PyTorch **Week3/data** folder"
      ]
    },
    {
      "metadata": {
        "id": "Cm7sJOi4f1MO",
        "colab_type": "code",
        "colab": {
          "autoexec": {
            "startup": false,
            "wait_interval": 0
          },
          "base_uri": "https://localhost:8080/",
          "height": 34
        },
        "outputId": "b1eafc23-2a7d-4e55-df5f-6f017f75703b",
        "executionInfo": {
          "status": "ok",
          "timestamp": 1528554261715,
          "user_tz": -60,
          "elapsed": 2510,
          "user": {
            "displayName": "George Igwegbe",
            "photoUrl": "//lh3.googleusercontent.com/-VGzYC8aUsgY/AAAAAAAAAAI/AAAAAAAAAs8/5fZKxSg6fJs/s50-c-k-no/photo.jpg",
            "userId": "117677675546471076295"
          }
        }
      },
      "cell_type": "code",
      "source": [
        "!git clone https://github.com/AISaturdaysLagos/Resources.git"
      ],
      "execution_count": 2,
      "outputs": [
        {
          "output_type": "stream",
          "text": [
            "fatal: destination path 'Resources' already exists and is not an empty directory.\r\n"
          ],
          "name": "stdout"
        }
      ]
    },
    {
      "metadata": {
        "id": "pi3-wvq7fG71",
        "colab_type": "code",
        "colab": {
          "autoexec": {
            "startup": false,
            "wait_interval": 0
          },
          "base_uri": "https://localhost:8080/",
          "height": 34
        },
        "outputId": "905362fa-3d8e-4f91-ec50-54e0b1ab0280",
        "executionInfo": {
          "status": "ok",
          "timestamp": 1528554264760,
          "user_tz": -60,
          "elapsed": 1490,
          "user": {
            "displayName": "George Igwegbe",
            "photoUrl": "//lh3.googleusercontent.com/-VGzYC8aUsgY/AAAAAAAAAAI/AAAAAAAAAs8/5fZKxSg6fJs/s50-c-k-no/photo.jpg",
            "userId": "117677675546471076295"
          }
        }
      },
      "cell_type": "code",
      "source": [
        "cd Resources/2018/cohort2/PyTorch/Week3/data/"
      ],
      "execution_count": 3,
      "outputs": [
        {
          "output_type": "stream",
          "text": [
            "/content/Resources/2018/cohort2/PyTorch/Week3/data\n"
          ],
          "name": "stdout"
        }
      ]
    },
    {
      "metadata": {
        "id": "B-Daz2e5fnV5",
        "colab_type": "code",
        "colab": {
          "autoexec": {
            "startup": false,
            "wait_interval": 0
          }
        }
      },
      "cell_type": "code",
      "source": [
        "PATH = \"/content/Resources/2018/cohort2/PyTorch/Week3/data\"\n"
      ],
      "execution_count": 0,
      "outputs": []
    },
    {
      "metadata": {
        "id": "kmPORtgFgo18",
        "colab_type": "text"
      },
      "cell_type": "markdown",
      "source": [
        "**Import PyTorch dependencies**"
      ]
    },
    {
      "metadata": {
        "id": "_81bU5GRgga8",
        "colab_type": "code",
        "colab": {
          "autoexec": {
            "startup": false,
            "wait_interval": 0
          }
        }
      },
      "cell_type": "code",
      "source": [
        "from os import path\n",
        "from wheel.pep425tags import get_abbr_impl, get_impl_ver, get_abi_tag\n",
        "platform = '{}{}-{}'.format(get_abbr_impl(), get_impl_ver(), get_abi_tag())\n",
        "\n",
        "accelerator = 'cu80' if path.exists('/opt/bin/nvidia-smi') else 'cpu'\n",
        "\n",
        "!pip install -q http://download.pytorch.org/whl/{accelerator}/torch-0.3.0.post4-{platform}-linux_x86_64.whl torchvision\n"
      ],
      "execution_count": 0,
      "outputs": []
    },
    {
      "metadata": {
        "id": "ALPx-1vugv_a",
        "colab_type": "code",
        "colab": {
          "autoexec": {
            "startup": false,
            "wait_interval": 0
          }
        }
      },
      "cell_type": "code",
      "source": [
        "import numpy as np\n",
        "import torch\n",
        "from torch.utils.data import Dataset, DataLoader\n"
      ],
      "execution_count": 0,
      "outputs": []
    },
    {
      "metadata": {
        "id": "YkFeMMZHhJT7",
        "colab_type": "text"
      },
      "cell_type": "markdown",
      "source": [
        "**Data analysis**"
      ]
    },
    {
      "metadata": {
        "id": "RO8AgF7cRmsq",
        "colab_type": "text"
      },
      "cell_type": "markdown",
      "source": [
        " np.genfromtxt('birth_life_2010.txt',delimiter='\\t',usecols=(1,2), skip_header=1, dtype=np.double)"
      ]
    },
    {
      "metadata": {
        "id": "2cfIOJP-hEXR",
        "colab_type": "code",
        "colab": {
          "autoexec": {
            "startup": false,
            "wait_interval": 0
          }
        }
      },
      "cell_type": "code",
      "source": [
        "data = np.genfromtxt('birth_life_2010.txt',delimiter='\\t', usecols=(1,2), skip_header=1, dtype=np.double)\n",
        "#data = np.genfromtxt('birth_life_2010.txt',delimiter='\\t', skip_header=1, dtype=np.double)"
      ],
      "execution_count": 0,
      "outputs": []
    },
    {
      "metadata": {
        "id": "l8J90lFm9QYP",
        "colab_type": "code",
        "colab": {
          "autoexec": {
            "startup": false,
            "wait_interval": 0
          }
        }
      },
      "cell_type": "code",
      "source": [
        "data"
      ],
      "execution_count": 0,
      "outputs": []
    },
    {
      "metadata": {
        "id": "SMtC_I4YR5VU",
        "colab_type": "text"
      },
      "cell_type": "markdown",
      "source": [
        "sample: **data[0]**"
      ]
    },
    {
      "metadata": {
        "id": "VoKZydxCh2ec",
        "colab_type": "code",
        "colab": {
          "autoexec": {
            "startup": false,
            "wait_interval": 0
          },
          "base_uri": "https://localhost:8080/",
          "height": 34
        },
        "outputId": "d1ee29ba-5169-4ede-b432-8a632b803c96",
        "executionInfo": {
          "status": "ok",
          "timestamp": 1528554750581,
          "user_tz": -60,
          "elapsed": 1106,
          "user": {
            "displayName": "George Igwegbe",
            "photoUrl": "//lh3.googleusercontent.com/-VGzYC8aUsgY/AAAAAAAAAAI/AAAAAAAAAs8/5fZKxSg6fJs/s50-c-k-no/photo.jpg",
            "userId": "117677675546471076295"
          }
        }
      },
      "cell_type": "code",
      "source": [
        "data[0]"
      ],
      "execution_count": 15,
      "outputs": [
        {
          "output_type": "execute_result",
          "data": {
            "text/plain": [
              "array([ 1.822    , 74.8282439])"
            ]
          },
          "metadata": {
            "tags": []
          },
          "execution_count": 15
        }
      ]
    },
    {
      "metadata": {
        "id": "A-sgjqEgSETk",
        "colab_type": "text"
      },
      "cell_type": "markdown",
      "source": [
        "**data.shape**"
      ]
    },
    {
      "metadata": {
        "id": "ErNo114kis5v",
        "colab_type": "code",
        "colab": {
          "autoexec": {
            "startup": false,
            "wait_interval": 0
          },
          "base_uri": "https://localhost:8080/",
          "height": 34
        },
        "outputId": "de80f801-d763-4f4b-c7c3-9f1ed2133a95",
        "executionInfo": {
          "status": "ok",
          "timestamp": 1528554759770,
          "user_tz": -60,
          "elapsed": 1345,
          "user": {
            "displayName": "George Igwegbe",
            "photoUrl": "//lh3.googleusercontent.com/-VGzYC8aUsgY/AAAAAAAAAAI/AAAAAAAAAs8/5fZKxSg6fJs/s50-c-k-no/photo.jpg",
            "userId": "117677675546471076295"
          }
        }
      },
      "cell_type": "code",
      "source": [
        "data.shape"
      ],
      "execution_count": 16,
      "outputs": [
        {
          "output_type": "execute_result",
          "data": {
            "text/plain": [
              "(190, 2)"
            ]
          },
          "metadata": {
            "tags": []
          },
          "execution_count": 16
        }
      ]
    },
    {
      "metadata": {
        "id": "QEO2AK2TSSQ4",
        "colab_type": "text"
      },
      "cell_type": "markdown",
      "source": [
        "**Reshape** train_ = np.reshape(data[], (reshape dimension))"
      ]
    },
    {
      "metadata": {
        "id": "arTqpKLviLwh",
        "colab_type": "code",
        "colab": {
          "autoexec": {
            "startup": false,
            "wait_interval": 0
          }
        }
      },
      "cell_type": "code",
      "source": [
        "train_x = np.reshape(data[:,0], (190,1))\n",
        "train_y = np.reshape(data[:,1], (190,1))"
      ],
      "execution_count": 0,
      "outputs": []
    },
    {
      "metadata": {
        "id": "1s8LJbu2Slgv",
        "colab_type": "text"
      },
      "cell_type": "markdown",
      "source": [
        "Verify the shape"
      ]
    },
    {
      "metadata": {
        "id": "CXcFxzaYi0kt",
        "colab_type": "code",
        "colab": {
          "autoexec": {
            "startup": false,
            "wait_interval": 0
          },
          "base_uri": "https://localhost:8080/",
          "height": 34
        },
        "outputId": "1d5b7700-3862-45b6-ff47-5fcb85c99749",
        "executionInfo": {
          "status": "ok",
          "timestamp": 1528555034660,
          "user_tz": -60,
          "elapsed": 1138,
          "user": {
            "displayName": "George Igwegbe",
            "photoUrl": "//lh3.googleusercontent.com/-VGzYC8aUsgY/AAAAAAAAAAI/AAAAAAAAAs8/5fZKxSg6fJs/s50-c-k-no/photo.jpg",
            "userId": "117677675546471076295"
          }
        }
      },
      "cell_type": "code",
      "source": [
        "train_x.shape"
      ],
      "execution_count": 19,
      "outputs": [
        {
          "output_type": "execute_result",
          "data": {
            "text/plain": [
              "(190, 1)"
            ]
          },
          "metadata": {
            "tags": []
          },
          "execution_count": 19
        }
      ]
    },
    {
      "metadata": {
        "id": "ldZHL7NxjXtl",
        "colab_type": "text"
      },
      "cell_type": "markdown",
      "source": [
        "Convert numpy **ndarray** to **torch tensor**  \n",
        "\n",
        "1.  x_data = torch.from_numpy(train_x)\n",
        "2.   y_data = torch.from_numpy(train_y)\n",
        "\n"
      ]
    },
    {
      "metadata": {
        "id": "Jl1a5acEjIeD",
        "colab_type": "code",
        "colab": {
          "autoexec": {
            "startup": false,
            "wait_interval": 0
          }
        }
      },
      "cell_type": "code",
      "source": [
        "x_data = torch.from_numpy(train_x)\n",
        "y_data = torch.from_numpy(train_y)"
      ],
      "execution_count": 0,
      "outputs": []
    },
    {
      "metadata": {
        "id": "H6weJSPNTAx6",
        "colab_type": "text"
      },
      "cell_type": "markdown",
      "source": [
        "Verify the** type(x_data)**"
      ]
    },
    {
      "metadata": {
        "id": "JXBwk0Z5jsVj",
        "colab_type": "code",
        "colab": {
          "autoexec": {
            "startup": false,
            "wait_interval": 0
          },
          "base_uri": "https://localhost:8080/",
          "height": 34
        },
        "outputId": "b93e3979-a497-41a8-aece-f331471ece52",
        "executionInfo": {
          "status": "ok",
          "timestamp": 1528555230109,
          "user_tz": -60,
          "elapsed": 1242,
          "user": {
            "displayName": "George Igwegbe",
            "photoUrl": "//lh3.googleusercontent.com/-VGzYC8aUsgY/AAAAAAAAAAI/AAAAAAAAAs8/5fZKxSg6fJs/s50-c-k-no/photo.jpg",
            "userId": "117677675546471076295"
          }
        }
      },
      "cell_type": "code",
      "source": [
        "type(x_data)"
      ],
      "execution_count": 21,
      "outputs": [
        {
          "output_type": "execute_result",
          "data": {
            "text/plain": [
              "torch.DoubleTensor"
            ]
          },
          "metadata": {
            "tags": []
          },
          "execution_count": 21
        }
      ]
    },
    {
      "metadata": {
        "id": "sSnFPdbFjx6e",
        "colab_type": "code",
        "colab": {
          "autoexec": {
            "startup": false,
            "wait_interval": 0
          },
          "base_uri": "https://localhost:8080/",
          "height": 34
        },
        "outputId": "730c9933-1568-4a67-cd83-0bdd350255ca",
        "executionInfo": {
          "status": "ok",
          "timestamp": 1528555266844,
          "user_tz": -60,
          "elapsed": 1132,
          "user": {
            "displayName": "George Igwegbe",
            "photoUrl": "//lh3.googleusercontent.com/-VGzYC8aUsgY/AAAAAAAAAAI/AAAAAAAAAs8/5fZKxSg6fJs/s50-c-k-no/photo.jpg",
            "userId": "117677675546471076295"
          }
        }
      },
      "cell_type": "code",
      "source": [
        "x_data.shape"
      ],
      "execution_count": 22,
      "outputs": [
        {
          "output_type": "execute_result",
          "data": {
            "text/plain": [
              "torch.Size([190, 1])"
            ]
          },
          "metadata": {
            "tags": []
          },
          "execution_count": 22
        }
      ]
    },
    {
      "metadata": {
        "id": "vWJoGtjPkBEZ",
        "colab_type": "text"
      },
      "cell_type": "markdown",
      "source": [
        "**Data Analysis and  VIsualization**"
      ]
    },
    {
      "metadata": {
        "id": "iUvCY1K9j7Z1",
        "colab_type": "code",
        "colab": {
          "autoexec": {
            "startup": false,
            "wait_interval": 0
          },
          "base_uri": "https://localhost:8080/",
          "height": 34
        },
        "outputId": "947b0016-d461-4ac4-d4f0-ca2c3ec4002c",
        "executionInfo": {
          "status": "ok",
          "timestamp": 1528555533167,
          "user_tz": -60,
          "elapsed": 2116,
          "user": {
            "displayName": "George Igwegbe",
            "photoUrl": "//lh3.googleusercontent.com/-VGzYC8aUsgY/AAAAAAAAAAI/AAAAAAAAAs8/5fZKxSg6fJs/s50-c-k-no/photo.jpg",
            "userId": "117677675546471076295"
          }
        }
      },
      "cell_type": "code",
      "source": [
        "Nigeria = data[159]\n",
        "print(Nigeria)"
      ],
      "execution_count": 23,
      "outputs": [
        {
          "output_type": "stream",
          "text": [
            "[ 5.525      51.41002439]\n"
          ],
          "name": "stdout"
        }
      ]
    },
    {
      "metadata": {
        "id": "n_th6QLgkShU",
        "colab_type": "code",
        "colab": {
          "autoexec": {
            "startup": false,
            "wait_interval": 0
          },
          "base_uri": "https://localhost:8080/",
          "height": 34
        },
        "outputId": "83bebd32-70c0-4bc1-e097-59e885636599",
        "executionInfo": {
          "status": "ok",
          "timestamp": 1528555547724,
          "user_tz": -60,
          "elapsed": 1777,
          "user": {
            "displayName": "George Igwegbe",
            "photoUrl": "//lh3.googleusercontent.com/-VGzYC8aUsgY/AAAAAAAAAAI/AAAAAAAAAs8/5fZKxSg6fJs/s50-c-k-no/photo.jpg",
            "userId": "117677675546471076295"
          }
        }
      },
      "cell_type": "code",
      "source": [
        "India = data[141]\n",
        "print(India)"
      ],
      "execution_count": 25,
      "outputs": [
        {
          "output_type": "stream",
          "text": [
            "[ 2.625      65.13134146]\n"
          ],
          "name": "stdout"
        }
      ]
    },
    {
      "metadata": {
        "id": "wwy7WgZakV7z",
        "colab_type": "code",
        "colab": {
          "autoexec": {
            "startup": false,
            "wait_interval": 0
          },
          "base_uri": "https://localhost:8080/",
          "height": 34
        },
        "outputId": "e8618e63-a2f6-4248-a5e9-92e40516bbe5",
        "executionInfo": {
          "status": "ok",
          "timestamp": 1528555561536,
          "user_tz": -60,
          "elapsed": 1103,
          "user": {
            "displayName": "George Igwegbe",
            "photoUrl": "//lh3.googleusercontent.com/-VGzYC8aUsgY/AAAAAAAAAAI/AAAAAAAAAs8/5fZKxSg6fJs/s50-c-k-no/photo.jpg",
            "userId": "117677675546471076295"
          }
        }
      },
      "cell_type": "code",
      "source": [
        "China = data[21]\n",
        "print(China)"
      ],
      "execution_count": 26,
      "outputs": [
        {
          "output_type": "stream",
          "text": [
            "[ 1.108      82.87804878]\n"
          ],
          "name": "stdout"
        }
      ]
    },
    {
      "metadata": {
        "id": "63_Jqiwokdyb",
        "colab_type": "code",
        "colab": {
          "autoexec": {
            "startup": false,
            "wait_interval": 0
          },
          "base_uri": "https://localhost:8080/",
          "height": 34
        },
        "outputId": "b6413088-73f7-47f4-fe59-490a33d90efa",
        "executionInfo": {
          "status": "ok",
          "timestamp": 1528555564248,
          "user_tz": -60,
          "elapsed": 1062,
          "user": {
            "displayName": "George Igwegbe",
            "photoUrl": "//lh3.googleusercontent.com/-VGzYC8aUsgY/AAAAAAAAAAI/AAAAAAAAAs8/5fZKxSg6fJs/s50-c-k-no/photo.jpg",
            "userId": "117677675546471076295"
          }
        }
      },
      "cell_type": "code",
      "source": [
        "Japan = data[19]\n",
        "print(Japan)"
      ],
      "execution_count": 27,
      "outputs": [
        {
          "output_type": "stream",
          "text": [
            "[ 1.39       82.93268293]\n"
          ],
          "name": "stdout"
        }
      ]
    },
    {
      "metadata": {
        "id": "jmwx7a1Er6Rq",
        "colab_type": "text"
      },
      "cell_type": "markdown",
      "source": [
        "Visualization **import matplotlib.pyplot as plt**"
      ]
    },
    {
      "metadata": {
        "id": "9Uxpdj3CsCvt",
        "colab_type": "code",
        "colab": {
          "autoexec": {
            "startup": false,
            "wait_interval": 0
          }
        }
      },
      "cell_type": "code",
      "source": [
        "import matplotlib.pyplot as plt"
      ],
      "execution_count": 0,
      "outputs": []
    },
    {
      "metadata": {
        "id": "0OfLJqogqsFu",
        "colab_type": "code",
        "colab": {
          "autoexec": {
            "startup": false,
            "wait_interval": 0
          },
          "base_uri": "https://localhost:8080/",
          "height": 584
        },
        "outputId": "3ed43006-d3f1-42e1-fb04-030e46c67c97",
        "executionInfo": {
          "status": "ok",
          "timestamp": 1528555610165,
          "user_tz": -60,
          "elapsed": 2273,
          "user": {
            "displayName": "George Igwegbe",
            "photoUrl": "//lh3.googleusercontent.com/-VGzYC8aUsgY/AAAAAAAAAAI/AAAAAAAAAs8/5fZKxSg6fJs/s50-c-k-no/photo.jpg",
            "userId": "117677675546471076295"
          }
        }
      },
      "cell_type": "code",
      "source": [
        "\n",
        "# Plotting example dataset# Plottin \n",
        "plt.figure(figsize = (20,4),dpi=150)\n",
        "plt.subplot(121)\n",
        "plt.scatter(y_data,x_data)\n",
        "\n",
        "# Country with data\n",
        "plt.scatter(y_data[159],x_data[159], color='red') # Nigeria\n",
        "plt.scatter(y_data[21],x_data[21], color='black') # China\n",
        "plt.scatter(y_data[141],x_data[141], color='purple') # India\n",
        "plt.scatter(y_data[19],x_data[19], color='green') # Japan\n",
        "\n",
        "# Axis label\n",
        "plt.ylabel(\"Birth Rate\")\n",
        "plt.xlabel(\"Life Expectancy\")\n",
        "plt.show()"
      ],
      "execution_count": 29,
      "outputs": [
        {
          "output_type": "display_data",
          "data": {
            "image/png": "[encoded data removed]",
            "text/plain": [
              "<matplotlib.figure.Figure at 0x7f870d2f9160>"
            ]
          },
          "metadata": {
            "tags": []
          }
        }
      ]
    },
    {
      "metadata": {
        "id": "5BKW0CugtJrU",
        "colab_type": "text"
      },
      "cell_type": "markdown",
      "source": [
        "**Linear regression **\n",
        "\n",
        "\n",
        "> Import torch.nn as nn\n",
        "\n"
      ]
    },
    {
      "metadata": {
        "id": "nH8f0-4qr1qc",
        "colab_type": "code",
        "colab": {
          "autoexec": {
            "startup": false,
            "wait_interval": 0
          }
        }
      },
      "cell_type": "code",
      "source": [
        "import torch.nn as nn"
      ],
      "execution_count": 0,
      "outputs": []
    },
    {
      "metadata": {
        "id": "FIIX_MnOtYk5",
        "colab_type": "code",
        "colab": {
          "autoexec": {
            "startup": false,
            "wait_interval": 0
          }
        }
      },
      "cell_type": "code",
      "source": [
        "#Step 1: Create Model Class\n",
        "\n",
        "# Linear Regression Model\n",
        "class LinearRegression(nn.Module):\n",
        "    def __init__(self):\n",
        "        super(LinearRegression, self).__init__()\n",
        "        self.linear = nn.Linear(1, 1)  # input and output is 1 dimension\n",
        "\n",
        "    def forward(self, x):\n",
        "        out = self.linear(x)\n",
        "        return out"
      ],
      "execution_count": 0,
      "outputs": []
    },
    {
      "metadata": {
        "id": "6ulF1jCXtcub",
        "colab_type": "code",
        "colab": {
          "autoexec": {
            "startup": false,
            "wait_interval": 0
          }
        }
      },
      "cell_type": "code",
      "source": [
        "#Step 2: Instantiate Model Class\n",
        "model = LinearRegression()"
      ],
      "execution_count": 0,
      "outputs": []
    },
    {
      "metadata": {
        "id": "3wSJ7NFATdDb",
        "colab_type": "text"
      },
      "cell_type": "markdown",
      "source": [
        "**learning rate** = 0.001"
      ]
    },
    {
      "metadata": {
        "id": "sJnqImLatiB7",
        "colab_type": "code",
        "colab": {
          "autoexec": {
            "startup": false,
            "wait_interval": 0
          }
        }
      },
      "cell_type": "code",
      "source": [
        "criterion = nn.MSELoss()\n",
        "learning_rate = 0.001\n",
        "\n",
        "#Step 4: Instantiate Optimizer class\n",
        "optimizer = torch.optim.SGD(model.parameters(), lr = learning_rate)"
      ],
      "execution_count": 0,
      "outputs": []
    },
    {
      "metadata": {
        "id": "EA5Fx6yqtok7",
        "colab_type": "text"
      },
      "cell_type": "markdown",
      "source": [
        "**Variable: Wrapper for Tensor 😊**\n",
        "\n",
        "\n",
        "> from torch.autograd import Variable\n",
        "\n"
      ]
    },
    {
      "metadata": {
        "id": "-WFYdjlxtmpV",
        "colab_type": "code",
        "colab": {
          "autoexec": {
            "startup": false,
            "wait_interval": 0
          }
        }
      },
      "cell_type": "code",
      "source": [
        "from torch.autograd import Variable"
      ],
      "execution_count": 0,
      "outputs": []
    },
    {
      "metadata": {
        "id": "VxrF-5x2u4ZT",
        "colab_type": "code",
        "colab": {
          "autoexec": {
            "startup": false,
            "wait_interval": 0
          }
        }
      },
      "cell_type": "code",
      "source": [
        "epochs =  10000"
      ],
      "execution_count": 0,
      "outputs": []
    },
    {
      "metadata": {
        "id": "q82QAn8Pu7ee",
        "colab_type": "code",
        "colab": {
          "autoexec": {
            "startup": false,
            "wait_interval": 0
          },
          "base_uri": "https://localhost:8080/",
          "height": 363
        },
        "outputId": "052b8e88-556e-4ca4-e4b1-8b01c6fb83c4",
        "executionInfo": {
          "status": "ok",
          "timestamp": 1528557485616,
          "user_tz": -60,
          "elapsed": 3749,
          "user": {
            "displayName": "George Igwegbe",
            "photoUrl": "//lh3.googleusercontent.com/-VGzYC8aUsgY/AAAAAAAAAAI/AAAAAAAAAs8/5fZKxSg6fJs/s50-c-k-no/photo.jpg",
            "userId": "117677675546471076295"
          }
        }
      },
      "cell_type": "code",
      "source": [
        "# Step 5: Train Model# Step 5 \n",
        "\n",
        "for epoch in range(epochs):\n",
        "    epoch += 1\n",
        "    # Convert numpy array to torch Variable\n",
        "    inputs = Variable((x_data)).float()\n",
        "    labels = Variable((y_data)).float()\n",
        "    \n",
        "    \n",
        "    #Clear gradient w.r.t parameters(To prevent updating with  previous gradient)\n",
        "    optimizer.zero_grad()\n",
        "    \n",
        "    #Forward to get output\n",
        "    outputs = model(inputs)\n",
        "    \n",
        "    \n",
        "    #Calculate Loss\n",
        "    loss = criterion(outputs, labels)\n",
        "    \n",
        "    \n",
        "    # Getting gradients w.r.t parameters (scalar loss)\n",
        "    loss.backward()\n",
        "    \n",
        "    #updating parameters (m and b)\n",
        "    optimizer.step()\n",
        "    \n",
        "    if epoch % 500 ==0:\n",
        "      print('epoch {}, loss {}'.format(epoch, loss.data[0]))\n",
        "    \n",
        "    "
      ],
      "execution_count": 37,
      "outputs": [
        {
          "output_type": "stream",
          "text": [
            "epoch 500, loss 933.1521606445312\n",
            "epoch 1000, loss 651.819091796875\n",
            "epoch 1500, loss 458.1458740234375\n",
            "epoch 2000, loss 324.8188171386719\n",
            "epoch 2500, loss 233.03451538085938\n",
            "epoch 3000, loss 169.84878540039062\n",
            "epoch 3500, loss 126.35090637207031\n",
            "epoch 4000, loss 96.40625\n",
            "epoch 4500, loss 75.79206085205078\n",
            "epoch 5000, loss 61.600975036621094\n",
            "epoch 5500, loss 51.83156204223633\n",
            "epoch 6000, loss 45.10616683959961\n",
            "epoch 6500, loss 40.47639846801758\n",
            "epoch 7000, loss 37.289207458496094\n",
            "epoch 7500, loss 35.09502029418945\n",
            "epoch 8000, loss 33.58454895019531\n",
            "epoch 8500, loss 32.5446891784668\n",
            "epoch 9000, loss 31.828842163085938\n",
            "epoch 9500, loss 31.336027145385742\n",
            "epoch 10000, loss 30.996780395507812\n"
          ],
          "name": "stdout"
        }
      ]
    },
    {
      "metadata": {
        "id": "OmOEMZ5xu-Vo",
        "colab_type": "code",
        "colab": {
          "autoexec": {
            "startup": false,
            "wait_interval": 0
          },
          "base_uri": "https://localhost:8080/",
          "height": 347
        },
        "outputId": "afa16a7d-539d-44fb-b603-52902a20813f",
        "executionInfo": {
          "status": "ok",
          "timestamp": 1528557540248,
          "user_tz": -60,
          "elapsed": 1988,
          "user": {
            "displayName": "George Igwegbe",
            "photoUrl": "//lh3.googleusercontent.com/-VGzYC8aUsgY/AAAAAAAAAAI/AAAAAAAAAs8/5fZKxSg6fJs/s50-c-k-no/photo.jpg",
            "userId": "117677675546471076295"
          }
        }
      },
      "cell_type": "code",
      "source": [
        "# Clear figure\n",
        "plt.clf()\n",
        "\n",
        "# Get predictions\n",
        "predicted = model(Variable((x_data.float()))).data.numpy()\n",
        "\n",
        "# Plot true data\n",
        "plt.plot(x_data.numpy(), y_data.numpy(), 'go', label= 'True data', alpha=.5, color='blue')\n",
        "\n",
        "# Plot predictions\n",
        "plt.plot(x_data.numpy(), predicted, '--', label=\"Predictions\", alpha=.5, color='red')\n",
        "\n",
        "\n",
        "# Legend and plot\n",
        "plt.legend(loc='best')\n",
        "plt.show()"
      ],
      "execution_count": 38,
      "outputs": [
        {
          "output_type": "display_data",
          "data": {
            "image/png": "[encoded data removed]",
            "text/plain": [
              "<matplotlib.figure.Figure at 0x7f870b23eac8>"
            ]
          },
          "metadata": {
            "tags": []
          }
        }
      ]
    },
    {
      "metadata": {
        "id": "hQNXPOnOOn9I",
        "colab_type": "code",
        "colab": {
          "autoexec": {
            "startup": false,
            "wait_interval": 0
          }
        }
      },
      "cell_type": "code",
      "source": [
        "print(model.state_dict())"
      ],
      "execution_count": 0,
      "outputs": []
    },
    {
      "metadata": {
        "id": "iaCA7zb3P2HY",
        "colab_type": "text"
      },
      "cell_type": "markdown",
      "source": [
        "Equation of a line y =** ?**x +** ?**"
      ]
    },
    {
      "metadata": {
        "id": "bjWYp7xyvWZn",
        "colab_type": "text"
      },
      "cell_type": "markdown",
      "source": [
        "# **Logistic Regression**"
      ]
    },
    {
      "metadata": {
        "id": "w83G5el5vqR7",
        "colab_type": "text"
      },
      "cell_type": "markdown",
      "source": [
        "Predicting Probability \n",
        "\n",
        "\n",
        "> Linear regression does not work\n",
        "\n",
        ">Instead of predicting direct values**: predict probability**\n"
      ]
    },
    {
      "metadata": {
        "id": "Zo3YuNPRvz5V",
        "colab_type": "text"
      },
      "cell_type": "markdown",
      "source": [
        "torchvision for image dataloading"
      ]
    },
    {
      "metadata": {
        "id": "XDzGWxy8vbDZ",
        "colab_type": "code",
        "colab": {
          "autoexec": {
            "startup": false,
            "wait_interval": 0
          }
        }
      },
      "cell_type": "code",
      "source": [
        "import torch\n",
        "import torch.nn as nn\n",
        "import torchvision\n",
        "import torchvision.transforms as transforms"
      ],
      "execution_count": 0,
      "outputs": []
    },
    {
      "metadata": {
        "id": "xTBcXApywmiT",
        "colab_type": "text"
      },
      "cell_type": "markdown",
      "source": [
        "-  **Note**: train_dataset train=**True**  and test_dataset=**False**\n",
        "\n"
      ]
    },
    {
      "metadata": {
        "id": "hfNdtSaVvy-Z",
        "colab_type": "code",
        "colab": {
          "autoexec": {
            "startup": false,
            "wait_interval": 0
          }
        }
      },
      "cell_type": "code",
      "source": [
        "train_dataset = torchvision.datasets.MNIST(root='../../data', \n",
        "                                           train=True, \n",
        "                                           transform=transforms.ToTensor(),\n",
        "                                           download=True)\n",
        "\n",
        "test_dataset = torchvision.datasets.MNIST(root='../../data', \n",
        "                                          train=False, \n",
        "                                          transform=transforms.ToTensor())\n",
        "\n"
      ],
      "execution_count": 0,
      "outputs": []
    },
    {
      "metadata": {
        "id": "byD8VUvex8N9",
        "colab_type": "text"
      },
      "cell_type": "markdown",
      "source": [
        "-  **Note**: train_loader shuffle=**True**(Avoid overfitting) and test_loader=shuffle=**False**"
      ]
    },
    {
      "metadata": {
        "id": "z6jVP2WKxyZF",
        "colab_type": "code",
        "colab": {
          "autoexec": {
            "startup": false,
            "wait_interval": 0
          }
        }
      },
      "cell_type": "code",
      "source": [
        "# Data loader (input pipeline)\n",
        "train_loader = torch.utils.data.DataLoader(dataset=train_dataset, batch_size=100, \n",
        "                                           shuffle=True)\n",
        "\n",
        "test_loader = torch.utils.data.DataLoader(dataset=test_dataset, batch_size=100, \n",
        "                                          shuffle=False)"
      ],
      "execution_count": 0,
      "outputs": []
    },
    {
      "metadata": {
        "id": "fgi9qvTdyfx6",
        "colab_type": "text"
      },
      "cell_type": "markdown",
      "source": [
        "**Data analysis and Data visualization**"
      ]
    },
    {
      "metadata": {
        "id": "fZ-FZM6dx_vJ",
        "colab_type": "code",
        "colab": {
          "autoexec": {
            "startup": false,
            "wait_interval": 0
          },
          "base_uri": "https://localhost:8080/",
          "height": 34
        },
        "outputId": "b37d9f26-aa6b-4260-ad1c-a6f350eedc63",
        "executionInfo": {
          "status": "ok",
          "timestamp": 1528560390349,
          "user_tz": -60,
          "elapsed": 1317,
          "user": {
            "displayName": "George Igwegbe",
            "photoUrl": "//lh3.googleusercontent.com/-VGzYC8aUsgY/AAAAAAAAAAI/AAAAAAAAAs8/5fZKxSg6fJs/s50-c-k-no/photo.jpg",
            "userId": "117677675546471076295"
          }
        }
      },
      "cell_type": "code",
      "source": [
        "len(train_dataset)"
      ],
      "execution_count": 43,
      "outputs": [
        {
          "output_type": "execute_result",
          "data": {
            "text/plain": [
              "60000"
            ]
          },
          "metadata": {
            "tags": []
          },
          "execution_count": 43
        }
      ]
    },
    {
      "metadata": {
        "id": "_UbWjdLNynY-",
        "colab_type": "code",
        "colab": {
          "autoexec": {
            "startup": false,
            "wait_interval": 0
          },
          "base_uri": "https://localhost:8080/",
          "height": 34
        },
        "outputId": "db09d659-450a-43fc-c026-4178fec16172",
        "executionInfo": {
          "status": "ok",
          "timestamp": 1528560395000,
          "user_tz": -60,
          "elapsed": 1322,
          "user": {
            "displayName": "George Igwegbe",
            "photoUrl": "//lh3.googleusercontent.com/-VGzYC8aUsgY/AAAAAAAAAAI/AAAAAAAAAs8/5fZKxSg6fJs/s50-c-k-no/photo.jpg",
            "userId": "117677675546471076295"
          }
        }
      },
      "cell_type": "code",
      "source": [
        "\n",
        "len(test_dataset)"
      ],
      "execution_count": 44,
      "outputs": [
        {
          "output_type": "execute_result",
          "data": {
            "text/plain": [
              "10000"
            ]
          },
          "metadata": {
            "tags": []
          },
          "execution_count": 44
        }
      ]
    },
    {
      "metadata": {
        "id": "oO-YX0K3yqRN",
        "colab_type": "code",
        "colab": {
          "autoexec": {
            "startup": false,
            "wait_interval": 0
          },
          "base_uri": "https://localhost:8080/",
          "height": 2149
        },
        "outputId": "3c498944-1467-4fb5-e6e5-821af3b2579b",
        "executionInfo": {
          "status": "ok",
          "timestamp": 1528560397033,
          "user_tz": -60,
          "elapsed": 1089,
          "user": {
            "displayName": "George Igwegbe",
            "photoUrl": "//lh3.googleusercontent.com/-VGzYC8aUsgY/AAAAAAAAAAI/AAAAAAAAAs8/5fZKxSg6fJs/s50-c-k-no/photo.jpg",
            "userId": "117677675546471076295"
          }
        }
      },
      "cell_type": "code",
      "source": [
        "train_dataset[0]"
      ],
      "execution_count": 45,
      "outputs": [
        {
          "output_type": "execute_result",
          "data": {
            "text/plain": [
              "(\n",
              " (0 ,.,.) = \n",
              " \n",
              " Columns 0 to 8 \n",
              "    0.0000  0.0000  0.0000  0.0000  0.0000  0.0000  0.0000  0.0000  0.0000\n",
              "   0.0000  0.0000  0.0000  0.0000  0.0000  0.0000  0.0000  0.0000  0.0000\n",
              "   0.0000  0.0000  0.0000  0.0000  0.0000  0.0000  0.0000  0.0000  0.0000\n",
              "   0.0000  0.0000  0.0000  0.0000  0.0000  0.0000  0.0000  0.0000  0.0000\n",
              "   0.0000  0.0000  0.0000  0.0000  0.0000  0.0000  0.0000  0.0000  0.0000\n",
              "   0.0000  0.0000  0.0000  0.0000  0.0000  0.0000  0.0000  0.0000  0.0000\n",
              "   0.0000  0.0000  0.0000  0.0000  0.0000  0.0000  0.0000  0.0000  0.1176\n",
              "   0.0000  0.0000  0.0000  0.0000  0.0000  0.0000  0.0000  0.1922  0.9333\n",
              "   0.0000  0.0000  0.0000  0.0000  0.0000  0.0000  0.0000  0.0706  0.8588\n",
              "   0.0000  0.0000  0.0000  0.0000  0.0000  0.0000  0.0000  0.0000  0.3137\n",
              "   0.0000  0.0000  0.0000  0.0000  0.0000  0.0000  0.0000  0.0000  0.0000\n",
              "   0.0000  0.0000  0.0000  0.0000  0.0000  0.0000  0.0000  0.0000  0.0000\n",
              "   0.0000  0.0000  0.0000  0.0000  0.0000  0.0000  0.0000  0.0000  0.0000\n",
              "   0.0000  0.0000  0.0000  0.0000  0.0000  0.0000  0.0000  0.0000  0.0000\n",
              "   0.0000  0.0000  0.0000  0.0000  0.0000  0.0000  0.0000  0.0000  0.0000\n",
              "   0.0000  0.0000  0.0000  0.0000  0.0000  0.0000  0.0000  0.0000  0.0000\n",
              "   0.0000  0.0000  0.0000  0.0000  0.0000  0.0000  0.0000  0.0000  0.0000\n",
              "   0.0000  0.0000  0.0000  0.0000  0.0000  0.0000  0.0000  0.0000  0.0000\n",
              "   0.0000  0.0000  0.0000  0.0000  0.0000  0.0000  0.0000  0.0000  0.0000\n",
              "   0.0000  0.0000  0.0000  0.0000  0.0000  0.0000  0.0000  0.0000  0.0000\n",
              "   0.0000  0.0000  0.0000  0.0000  0.0000  0.0000  0.0000  0.0000  0.0000\n",
              "   0.0000  0.0000  0.0000  0.0000  0.0000  0.0000  0.0000  0.0000  0.0902\n",
              "   0.0000  0.0000  0.0000  0.0000  0.0000  0.0000  0.0706  0.6706  0.8588\n",
              "   0.0000  0.0000  0.0000  0.0000  0.2157  0.6745  0.8863  0.9922  0.9922\n",
              "   0.0000  0.0000  0.0000  0.0000  0.5333  0.9922  0.9922  0.9922  0.8314\n",
              "   0.0000  0.0000  0.0000  0.0000  0.0000  0.0000  0.0000  0.0000  0.0000\n",
              "   0.0000  0.0000  0.0000  0.0000  0.0000  0.0000  0.0000  0.0000  0.0000\n",
              "   0.0000  0.0000  0.0000  0.0000  0.0000  0.0000  0.0000  0.0000  0.0000\n",
              " \n",
              " Columns 9 to 17 \n",
              "    0.0000  0.0000  0.0000  0.0000  0.0000  0.0000  0.0000  0.0000  0.0000\n",
              "   0.0000  0.0000  0.0000  0.0000  0.0000  0.0000  0.0000  0.0000  0.0000\n",
              "   0.0000  0.0000  0.0000  0.0000  0.0000  0.0000  0.0000  0.0000  0.0000\n",
              "   0.0000  0.0000  0.0000  0.0000  0.0000  0.0000  0.0000  0.0000  0.0000\n",
              "   0.0000  0.0000  0.0000  0.0000  0.0000  0.0000  0.0000  0.0000  0.0000\n",
              "   0.0000  0.0000  0.0000  0.0118  0.0706  0.0706  0.0706  0.4941  0.5333\n",
              "   0.1412  0.3686  0.6039  0.6667  0.9922  0.9922  0.9922  0.9922  0.9922\n",
              "   0.9922  0.9922  0.9922  0.9922  0.9922  0.9922  0.9922  0.9922  0.9843\n",
              "   0.9922  0.9922  0.9922  0.9922  0.9922  0.7765  0.7137  0.9686  0.9451\n",
              "   0.6118  0.4196  0.9922  0.9922  0.8039  0.0431  0.0000  0.1686  0.6039\n",
              "   0.0549  0.0039  0.6039  0.9922  0.3529  0.0000  0.0000  0.0000  0.0000\n",
              "   0.0000  0.0000  0.5451  0.9922  0.7451  0.0078  0.0000  0.0000  0.0000\n",
              "   0.0000  0.0000  0.0431  0.7451  0.9922  0.2745  0.0000  0.0000  0.0000\n",
              "   0.0000  0.0000  0.0000  0.1373  0.9451  0.8824  0.6275  0.4235  0.0039\n",
              "   0.0000  0.0000  0.0000  0.0000  0.3176  0.9412  0.9922  0.9922  0.4667\n",
              "   0.0000  0.0000  0.0000  0.0000  0.0000  0.1765  0.7294  0.9922  0.9922\n",
              "   0.0000  0.0000  0.0000  0.0000  0.0000  0.0000  0.0627  0.3647  0.9882\n",
              "   0.0000  0.0000  0.0000  0.0000  0.0000  0.0000  0.0000  0.0000  0.9765\n",
              "   0.0000  0.0000  0.0000  0.0000  0.0000  0.1804  0.5098  0.7176  0.9922\n",
              "   0.0000  0.0000  0.0000  0.1529  0.5804  0.8980  0.9922  0.9922  0.9922\n",
              "   0.0000  0.0941  0.4471  0.8667  0.9922  0.9922  0.9922  0.9922  0.7882\n",
              "   0.2588  0.8353  0.9922  0.9922  0.9922  0.9922  0.7765  0.3176  0.0078\n",
              "   0.9922  0.9922  0.9922  0.9922  0.7647  0.3137  0.0353  0.0000  0.0000\n",
              "   0.9922  0.9922  0.9569  0.5216  0.0431  0.0000  0.0000  0.0000  0.0000\n",
              "   0.5294  0.5176  0.0627  0.0000  0.0000  0.0000  0.0000  0.0000  0.0000\n",
              "   0.0000  0.0000  0.0000  0.0000  0.0000  0.0000  0.0000  0.0000  0.0000\n",
              "   0.0000  0.0000  0.0000  0.0000  0.0000  0.0000  0.0000  0.0000  0.0000\n",
              "   0.0000  0.0000  0.0000  0.0000  0.0000  0.0000  0.0000  0.0000  0.0000\n",
              " \n",
              " Columns 18 to 26 \n",
              "    0.0000  0.0000  0.0000  0.0000  0.0000  0.0000  0.0000  0.0000  0.0000\n",
              "   0.0000  0.0000  0.0000  0.0000  0.0000  0.0000  0.0000  0.0000  0.0000\n",
              "   0.0000  0.0000  0.0000  0.0000  0.0000  0.0000  0.0000  0.0000  0.0000\n",
              "   0.0000  0.0000  0.0000  0.0000  0.0000  0.0000  0.0000  0.0000  0.0000\n",
              "   0.0000  0.0000  0.0000  0.0000  0.0000  0.0000  0.0000  0.0000  0.0000\n",
              "   0.6863  0.1020  0.6510  1.0000  0.9686  0.4980  0.0000  0.0000  0.0000\n",
              "   0.8824  0.6745  0.9922  0.9490  0.7647  0.2510  0.0000  0.0000  0.0000\n",
              "   0.3647  0.3216  0.3216  0.2196  0.1529  0.0000  0.0000  0.0000  0.0000\n",
              "   0.0000  0.0000  0.0000  0.0000  0.0000  0.0000  0.0000  0.0000  0.0000\n",
              "   0.0000  0.0000  0.0000  0.0000  0.0000  0.0000  0.0000  0.0000  0.0000\n",
              "   0.0000  0.0000  0.0000  0.0000  0.0000  0.0000  0.0000  0.0000  0.0000\n",
              "   0.0000  0.0000  0.0000  0.0000  0.0000  0.0000  0.0000  0.0000  0.0000\n",
              "   0.0000  0.0000  0.0000  0.0000  0.0000  0.0000  0.0000  0.0000  0.0000\n",
              "   0.0000  0.0000  0.0000  0.0000  0.0000  0.0000  0.0000  0.0000  0.0000\n",
              "   0.0980  0.0000  0.0000  0.0000  0.0000  0.0000  0.0000  0.0000  0.0000\n",
              "   0.5882  0.1059  0.0000  0.0000  0.0000  0.0000  0.0000  0.0000  0.0000\n",
              "   0.9922  0.7333  0.0000  0.0000  0.0000  0.0000  0.0000  0.0000  0.0000\n",
              "   0.9922  0.9765  0.2510  0.0000  0.0000  0.0000  0.0000  0.0000  0.0000\n",
              "   0.9922  0.8118  0.0078  0.0000  0.0000  0.0000  0.0000  0.0000  0.0000\n",
              "   0.9804  0.7137  0.0000  0.0000  0.0000  0.0000  0.0000  0.0000  0.0000\n",
              "   0.3059  0.0000  0.0000  0.0000  0.0000  0.0000  0.0000  0.0000  0.0000\n",
              "   0.0000  0.0000  0.0000  0.0000  0.0000  0.0000  0.0000  0.0000  0.0000\n",
              "   0.0000  0.0000  0.0000  0.0000  0.0000  0.0000  0.0000  0.0000  0.0000\n",
              "   0.0000  0.0000  0.0000  0.0000  0.0000  0.0000  0.0000  0.0000  0.0000\n",
              "   0.0000  0.0000  0.0000  0.0000  0.0000  0.0000  0.0000  0.0000  0.0000\n",
              "   0.0000  0.0000  0.0000  0.0000  0.0000  0.0000  0.0000  0.0000  0.0000\n",
              "   0.0000  0.0000  0.0000  0.0000  0.0000  0.0000  0.0000  0.0000  0.0000\n",
              "   0.0000  0.0000  0.0000  0.0000  0.0000  0.0000  0.0000  0.0000  0.0000\n",
              " \n",
              " Columns 27 to 27 \n",
              "    0.0000\n",
              "   0.0000\n",
              "   0.0000\n",
              "   0.0000\n",
              "   0.0000\n",
              "   0.0000\n",
              "   0.0000\n",
              "   0.0000\n",
              "   0.0000\n",
              "   0.0000\n",
              "   0.0000\n",
              "   0.0000\n",
              "   0.0000\n",
              "   0.0000\n",
              "   0.0000\n",
              "   0.0000\n",
              "   0.0000\n",
              "   0.0000\n",
              "   0.0000\n",
              "   0.0000\n",
              "   0.0000\n",
              "   0.0000\n",
              "   0.0000\n",
              "   0.0000\n",
              "   0.0000\n",
              "   0.0000\n",
              "   0.0000\n",
              "   0.0000\n",
              " [torch.FloatTensor of size 1x28x28], 5)"
            ]
          },
          "metadata": {
            "tags": []
          },
          "execution_count": 45
        }
      ]
    },
    {
      "metadata": {
        "id": "7QiU1KulytDv",
        "colab_type": "code",
        "colab": {
          "autoexec": {
            "startup": false,
            "wait_interval": 0
          },
          "base_uri": "https://localhost:8080/",
          "height": 34
        },
        "outputId": "0c1e2eef-c678-4fda-e8da-277569fac212",
        "executionInfo": {
          "status": "ok",
          "timestamp": 1528560585201,
          "user_tz": -60,
          "elapsed": 1102,
          "user": {
            "displayName": "George Igwegbe",
            "photoUrl": "//lh3.googleusercontent.com/-VGzYC8aUsgY/AAAAAAAAAAI/AAAAAAAAAs8/5fZKxSg6fJs/s50-c-k-no/photo.jpg",
            "userId": "117677675546471076295"
          }
        }
      },
      "cell_type": "code",
      "source": [
        "type(train_dataset[0])\n"
      ],
      "execution_count": 47,
      "outputs": [
        {
          "output_type": "execute_result",
          "data": {
            "text/plain": [
              "tuple"
            ]
          },
          "metadata": {
            "tags": []
          },
          "execution_count": 47
        }
      ]
    },
    {
      "metadata": {
        "id": "8gksrFRVy6Fs",
        "colab_type": "text"
      },
      "cell_type": "markdown",
      "source": [
        "Input size:   **28px * 28px**"
      ]
    },
    {
      "metadata": {
        "id": "I_f7XxypyyUE",
        "colab_type": "code",
        "colab": {
          "autoexec": {
            "startup": false,
            "wait_interval": 0
          },
          "base_uri": "https://localhost:8080/",
          "height": 34
        },
        "outputId": "828b6462-38e6-4b14-b072-df2b2fb87076",
        "executionInfo": {
          "status": "ok",
          "timestamp": 1528560589048,
          "user_tz": -60,
          "elapsed": 1313,
          "user": {
            "displayName": "George Igwegbe",
            "photoUrl": "//lh3.googleusercontent.com/-VGzYC8aUsgY/AAAAAAAAAAI/AAAAAAAAAs8/5fZKxSg6fJs/s50-c-k-no/photo.jpg",
            "userId": "117677675546471076295"
          }
        }
      },
      "cell_type": "code",
      "source": [
        "train_dataset[0][0].size()"
      ],
      "execution_count": 48,
      "outputs": [
        {
          "output_type": "execute_result",
          "data": {
            "text/plain": [
              "torch.Size([1, 28, 28])"
            ]
          },
          "metadata": {
            "tags": []
          },
          "execution_count": 48
        }
      ]
    },
    {
      "metadata": {
        "id": "kc6ciRvczNS5",
        "colab_type": "text"
      },
      "cell_type": "markdown",
      "source": [
        "Do you know why the **1 **?"
      ]
    },
    {
      "metadata": {
        "id": "B6sns9MJzYh8",
        "colab_type": "text"
      },
      "cell_type": "markdown",
      "source": [
        "The true label"
      ]
    },
    {
      "metadata": {
        "id": "ZkQlONM7y0kJ",
        "colab_type": "code",
        "colab": {
          "autoexec": {
            "startup": false,
            "wait_interval": 0
          },
          "base_uri": "https://localhost:8080/",
          "height": 34
        },
        "outputId": "de31e042-bf56-4d0c-9b95-dc74364571de",
        "executionInfo": {
          "status": "ok",
          "timestamp": 1528560612861,
          "user_tz": -60,
          "elapsed": 1587,
          "user": {
            "displayName": "George Igwegbe",
            "photoUrl": "//lh3.googleusercontent.com/-VGzYC8aUsgY/AAAAAAAAAAI/AAAAAAAAAs8/5fZKxSg6fJs/s50-c-k-no/photo.jpg",
            "userId": "117677675546471076295"
          }
        }
      },
      "cell_type": "code",
      "source": [
        "train_dataset[0][1]"
      ],
      "execution_count": 49,
      "outputs": [
        {
          "output_type": "execute_result",
          "data": {
            "text/plain": [
              "5"
            ]
          },
          "metadata": {
            "tags": []
          },
          "execution_count": 49
        }
      ]
    },
    {
      "metadata": {
        "id": "PiXI0E25zgrE",
        "colab_type": "text"
      },
      "cell_type": "markdown",
      "source": [
        "**Visualization of  MNIST**"
      ]
    },
    {
      "metadata": {
        "id": "CueudeAxy27-",
        "colab_type": "code",
        "colab": {
          "autoexec": {
            "startup": false,
            "wait_interval": 0
          }
        }
      },
      "cell_type": "code",
      "source": [
        "import matplotlib.pyplot as plt"
      ],
      "execution_count": 0,
      "outputs": []
    },
    {
      "metadata": {
        "id": "8nfZf3Eyzpaa",
        "colab_type": "code",
        "colab": {
          "autoexec": {
            "startup": false,
            "wait_interval": 0
          },
          "base_uri": "https://localhost:8080/",
          "height": 34
        },
        "outputId": "e39feb79-cec6-4bae-a4f4-364f5919b8bf",
        "executionInfo": {
          "status": "ok",
          "timestamp": 1528560619946,
          "user_tz": -60,
          "elapsed": 1153,
          "user": {
            "displayName": "George Igwegbe",
            "photoUrl": "//lh3.googleusercontent.com/-VGzYC8aUsgY/AAAAAAAAAAI/AAAAAAAAAs8/5fZKxSg6fJs/s50-c-k-no/photo.jpg",
            "userId": "117677675546471076295"
          }
        }
      },
      "cell_type": "code",
      "source": [
        "train_dataset[0][0].numpy().shape"
      ],
      "execution_count": 51,
      "outputs": [
        {
          "output_type": "execute_result",
          "data": {
            "text/plain": [
              "(1, 28, 28)"
            ]
          },
          "metadata": {
            "tags": []
          },
          "execution_count": 51
        }
      ]
    },
    {
      "metadata": {
        "id": "hQaPDX_AzrxA",
        "colab_type": "code",
        "colab": {
          "autoexec": {
            "startup": false,
            "wait_interval": 0
          }
        }
      },
      "cell_type": "code",
      "source": [
        "show_img = train_dataset[0][0].numpy().reshape(28,28)"
      ],
      "execution_count": 0,
      "outputs": []
    },
    {
      "metadata": {
        "id": "bd2LyyX_zudv",
        "colab_type": "code",
        "colab": {
          "autoexec": {
            "startup": false,
            "wait_interval": 0
          },
          "base_uri": "https://localhost:8080/",
          "height": 364
        },
        "outputId": "23a2bcee-667f-4c04-904c-efcd692302ef",
        "executionInfo": {
          "status": "ok",
          "timestamp": 1528560622618,
          "user_tz": -60,
          "elapsed": 989,
          "user": {
            "displayName": "George Igwegbe",
            "photoUrl": "//lh3.googleusercontent.com/-VGzYC8aUsgY/AAAAAAAAAAI/AAAAAAAAAs8/5fZKxSg6fJs/s50-c-k-no/photo.jpg",
            "userId": "117677675546471076295"
          }
        }
      },
      "cell_type": "code",
      "source": [
        "plt.imshow(show_img, cmap='gray')"
      ],
      "execution_count": 53,
      "outputs": [
        {
          "output_type": "execute_result",
          "data": {
            "text/plain": [
              "<matplotlib.image.AxesImage at 0x7f870a552f28>"
            ]
          },
          "metadata": {
            "tags": []
          },
          "execution_count": 53
        },
        {
          "output_type": "display_data",
          "data": {
            "image/png": "[encoded data removed]",
            "text/plain": [
              "<matplotlib.figure.Figure at 0x7f870a522550>"
            ]
          },
          "metadata": {
            "tags": []
          }
        }
      ]
    },
    {
      "metadata": {
        "id": "n5VYKtoxzwpk",
        "colab_type": "code",
        "colab": {
          "autoexec": {
            "startup": false,
            "wait_interval": 0
          },
          "base_uri": "https://localhost:8080/",
          "height": 34
        },
        "outputId": "1f268546-67a0-4899-af55-6b40ee8dc227",
        "executionInfo": {
          "status": "ok",
          "timestamp": 1528560631479,
          "user_tz": -60,
          "elapsed": 2027,
          "user": {
            "displayName": "George Igwegbe",
            "photoUrl": "//lh3.googleusercontent.com/-VGzYC8aUsgY/AAAAAAAAAAI/AAAAAAAAAs8/5fZKxSg6fJs/s50-c-k-no/photo.jpg",
            "userId": "117677675546471076295"
          }
        }
      },
      "cell_type": "code",
      "source": [
        "# Label\n",
        "train_dataset[0][1]"
      ],
      "execution_count": 54,
      "outputs": [
        {
          "output_type": "execute_result",
          "data": {
            "text/plain": [
              "5"
            ]
          },
          "metadata": {
            "tags": []
          },
          "execution_count": 54
        }
      ]
    },
    {
      "metadata": {
        "id": "R1Cs-Js8z1tU",
        "colab_type": "text"
      },
      "cell_type": "markdown",
      "source": [
        "**Make the Dataset Iterable**\n",
        "\n",
        "- Aim: make the dataset iterable\n",
        "- **totaldata** : 6000\n",
        "- **minibatch**: 100\n",
        "-**iterations**: 3000\n",
        "-**epochs**\n",
        "     - 1 epoch: running through the  whole dataset once\n",
        "     - $epochs = iterations  \\div \\frac {totalbatch}{minibatch} = 3000 \\div \\frac{6000}{100}= 5$\n",
        "\n"
      ]
    },
    {
      "metadata": {
        "id": "LTQR2Axkzzaa",
        "colab_type": "code",
        "colab": {
          "autoexec": {
            "startup": false,
            "wait_interval": 0
          },
          "base_uri": "https://localhost:8080/",
          "height": 34
        },
        "outputId": "e9c3cb92-7302-4d53-9fe3-b7aaf05f9130",
        "executionInfo": {
          "status": "ok",
          "timestamp": 1528560701653,
          "user_tz": -60,
          "elapsed": 1725,
          "user": {
            "displayName": "George Igwegbe",
            "photoUrl": "//lh3.googleusercontent.com/-VGzYC8aUsgY/AAAAAAAAAAI/AAAAAAAAAs8/5fZKxSg6fJs/s50-c-k-no/photo.jpg",
            "userId": "117677675546471076295"
          }
        }
      },
      "cell_type": "code",
      "source": [
        "len(train_dataset)"
      ],
      "execution_count": 55,
      "outputs": [
        {
          "output_type": "execute_result",
          "data": {
            "text/plain": [
              "60000"
            ]
          },
          "metadata": {
            "tags": []
          },
          "execution_count": 55
        }
      ]
    },
    {
      "metadata": {
        "id": "3lxATnTjz5_7",
        "colab_type": "code",
        "colab": {
          "autoexec": {
            "startup": false,
            "wait_interval": 0
          }
        }
      },
      "cell_type": "code",
      "source": [
        "batch_size = 100\n",
        "n_iters = 3000"
      ],
      "execution_count": 0,
      "outputs": []
    },
    {
      "metadata": {
        "id": "f_blTeTBz_1Q",
        "colab_type": "code",
        "colab": {
          "autoexec": {
            "startup": false,
            "wait_interval": 0
          },
          "base_uri": "https://localhost:8080/",
          "height": 34
        },
        "outputId": "ae031ab5-1530-45b2-90d0-f4924f54e8bb",
        "executionInfo": {
          "status": "ok",
          "timestamp": 1528560711803,
          "user_tz": -60,
          "elapsed": 1132,
          "user": {
            "displayName": "George Igwegbe",
            "photoUrl": "//lh3.googleusercontent.com/-VGzYC8aUsgY/AAAAAAAAAAI/AAAAAAAAAs8/5fZKxSg6fJs/s50-c-k-no/photo.jpg",
            "userId": "117677675546471076295"
          }
        }
      },
      "cell_type": "code",
      "source": [
        "num_epochs = (int)(n_iters / (len(train_dataset) / batch_size))\n",
        "num_epochs"
      ],
      "execution_count": 57,
      "outputs": [
        {
          "output_type": "execute_result",
          "data": {
            "text/plain": [
              "5"
            ]
          },
          "metadata": {
            "tags": []
          },
          "execution_count": 57
        }
      ]
    },
    {
      "metadata": {
        "id": "8Mq8d_kb0XUu",
        "colab_type": "text"
      },
      "cell_type": "markdown",
      "source": [
        "**Building Model**"
      ]
    },
    {
      "metadata": {
        "id": "nW_rAVzd0DRH",
        "colab_type": "code",
        "colab": {
          "autoexec": {
            "startup": false,
            "wait_interval": 0
          }
        }
      },
      "cell_type": "code",
      "source": [
        "# This is the same as linear regression\n",
        "\n",
        "class LogisticRegressionModel(nn.Module):\n",
        "  def __init__(self,input_dim,output_dim):\n",
        "    super(LogisticRegressionModel, self).__init__()\n",
        "    self.linear = nn.Linear(input_dim, output_dim)\n",
        "    \n",
        "  def forward(self,x):\n",
        "    out = self.linear(x)\n",
        "    return out"
      ],
      "execution_count": 0,
      "outputs": []
    },
    {
      "metadata": {
        "id": "Ts_zbh6S006v",
        "colab_type": "text"
      },
      "cell_type": "markdown",
      "source": [
        "**step ?: Instantiate Model Class**\n",
        "- Input dimension:\n",
        "  - Size of image\n",
        "  - 28 x 28\n",
        "- Output dimension: 10\n",
        "  - 0,1,2,3,4,5,6,7,8,9,\n",
        " "
      ]
    },
    {
      "metadata": {
        "id": "X3d33Vtr0uMb",
        "colab_type": "code",
        "colab": {
          "autoexec": {
            "startup": false,
            "wait_interval": 0
          },
          "base_uri": "https://localhost:8080/",
          "height": 34
        },
        "outputId": "191f2557-9ec7-4020-8540-774a8a22bad5",
        "executionInfo": {
          "status": "ok",
          "timestamp": 1528560721477,
          "user_tz": -60,
          "elapsed": 1440,
          "user": {
            "displayName": "George Igwegbe",
            "photoUrl": "//lh3.googleusercontent.com/-VGzYC8aUsgY/AAAAAAAAAAI/AAAAAAAAAs8/5fZKxSg6fJs/s50-c-k-no/photo.jpg",
            "userId": "117677675546471076295"
          }
        }
      },
      "cell_type": "code",
      "source": [
        "# Size of images\n",
        "train_dataset[0][0].size()"
      ],
      "execution_count": 59,
      "outputs": [
        {
          "output_type": "execute_result",
          "data": {
            "text/plain": [
              "torch.Size([1, 28, 28])"
            ]
          },
          "metadata": {
            "tags": []
          },
          "execution_count": 59
        }
      ]
    },
    {
      "metadata": {
        "id": "dvSdEG1C07gz",
        "colab_type": "code",
        "colab": {
          "autoexec": {
            "startup": false,
            "wait_interval": 0
          }
        }
      },
      "cell_type": "code",
      "source": [
        "input_dim = 28*28\n",
        "output_dim = 10\n",
        "\n",
        "model = LogisticRegressionModel(input_dim, output_dim)"
      ],
      "execution_count": 0,
      "outputs": []
    },
    {
      "metadata": {
        "id": "ulGLiUoK1BnE",
        "colab_type": "text"
      },
      "cell_type": "markdown",
      "source": [
        "Step 5: Instantiate Loss Class\n",
        "- Logistic Regression: Cross Entropy Loss\n",
        "  - Linear Regression : MSE"
      ]
    },
    {
      "metadata": {
        "id": "1YOWv21U1Jp6",
        "colab_type": "text"
      },
      "cell_type": "markdown",
      "source": [
        "What happens in nn.CrossEntropyLoss() --- add pic\n",
        "- Computes softmax(logistic/softmax function)\n",
        "- Computes cross entropy"
      ]
    },
    {
      "metadata": {
        "id": "FJzCeRm71FoT",
        "colab_type": "code",
        "colab": {
          "autoexec": {
            "startup": false,
            "wait_interval": 0
          }
        }
      },
      "cell_type": "code",
      "source": [
        "criterion = nn.CrossEntropyLoss()"
      ],
      "execution_count": 0,
      "outputs": []
    },
    {
      "metadata": {
        "id": "SzirtjzM1YUo",
        "colab_type": "text"
      },
      "cell_type": "markdown",
      "source": [
        "Instantiate Optimizer Class"
      ]
    },
    {
      "metadata": {
        "id": "EZLsMCWx1Rr6",
        "colab_type": "code",
        "colab": {
          "autoexec": {
            "startup": false,
            "wait_interval": 0
          }
        }
      },
      "cell_type": "code",
      "source": [
        "learning_rate = 0.001\n",
        "\n",
        "optimizer = torch.optim.SGD(model.parameters(), lr=learning_rate)"
      ],
      "execution_count": 0,
      "outputs": []
    },
    {
      "metadata": {
        "id": "oPQZ36no1ejv",
        "colab_type": "text"
      },
      "cell_type": "markdown",
      "source": [
        "Parameters In-Depth"
      ]
    },
    {
      "metadata": {
        "id": "uDhFScK-1a7B",
        "colab_type": "code",
        "colab": {
          "autoexec": {
            "startup": false,
            "wait_interval": 0
          }
        }
      },
      "cell_type": "code",
      "source": [
        "mp = model.parameters()"
      ],
      "execution_count": 0,
      "outputs": []
    },
    {
      "metadata": {
        "id": "NmWYVBNo1iR7",
        "colab_type": "code",
        "colab": {
          "autoexec": {
            "startup": false,
            "wait_interval": 0
          },
          "base_uri": "https://localhost:8080/",
          "height": 51
        },
        "outputId": "fffd8e49-b806-4c89-eb2d-1d7c3965304f",
        "executionInfo": {
          "status": "ok",
          "timestamp": 1528560775910,
          "user_tz": -60,
          "elapsed": 1058,
          "user": {
            "displayName": "George Igwegbe",
            "photoUrl": "//lh3.googleusercontent.com/-VGzYC8aUsgY/AAAAAAAAAAI/AAAAAAAAAs8/5fZKxSg6fJs/s50-c-k-no/photo.jpg",
            "userId": "117677675546471076295"
          }
        }
      },
      "cell_type": "code",
      "source": [
        "print(mp)\n",
        "#print(list(mp)[1].size())  # Funny though\n",
        "print(list(mp)[0].size())"
      ],
      "execution_count": 64,
      "outputs": [
        {
          "output_type": "stream",
          "text": [
            "<generator object Module.parameters at 0x7f870a9a6d58>\n",
            "torch.Size([10, 784])\n"
          ],
          "name": "stdout"
        }
      ]
    },
    {
      "metadata": {
        "id": "8FJgHbEa1zCh",
        "colab_type": "text"
      },
      "cell_type": "markdown",
      "source": [
        "**Variable: Wrapper for Tensor 😊**\n",
        "\n",
        "\n",
        "> from torch.autograd import Variable\n",
        "\n"
      ]
    },
    {
      "metadata": {
        "id": "5SM4oKhT1q_3",
        "colab_type": "code",
        "colab": {
          "autoexec": {
            "startup": false,
            "wait_interval": 0
          }
        }
      },
      "cell_type": "code",
      "source": [
        "from torch.autograd import Variable"
      ],
      "execution_count": 0,
      "outputs": []
    },
    {
      "metadata": {
        "id": "R2xv54xs14Gl",
        "colab_type": "code",
        "colab": {
          "autoexec": {
            "startup": false,
            "wait_interval": 0
          },
          "base_uri": "https://localhost:8080/",
          "height": 121
        },
        "outputId": "dded5a0d-83b3-425c-ecc0-a4d5b8ce31f5",
        "executionInfo": {
          "status": "ok",
          "timestamp": 1528560878783,
          "user_tz": -60,
          "elapsed": 24806,
          "user": {
            "displayName": "George Igwegbe",
            "photoUrl": "//lh3.googleusercontent.com/-VGzYC8aUsgY/AAAAAAAAAAI/AAAAAAAAAs8/5fZKxSg6fJs/s50-c-k-no/photo.jpg",
            "userId": "117677675546471076295"
          }
        }
      },
      "cell_type": "code",
      "source": [
        "iter = 0\n",
        "for epoc in range(num_epochs):\n",
        "    for i, (images, labels) in enumerate(train_loader):\n",
        "    \n",
        "        # Load images as Variables\n",
        "        images = Variable(images.view(-1, 28 * 28))\n",
        "        labels = Variable(labels)\n",
        "        \n",
        "        # Clear gradients w.r.t parameters\n",
        "        optimizer.zero_grad()\n",
        "        \n",
        "        # Forward pass to get output/logits\n",
        "        outputs = model(images)\n",
        "        \n",
        "        # Calculate Loss: softmax --> cross entropy loss\n",
        "        loss = criterion(outputs, labels)\n",
        "        \n",
        "        # Getting gradients w.r.t parameters\n",
        "        loss.backward()\n",
        "        \n",
        "        # Updating parameters\n",
        "        optimizer.step()\n",
        "        \n",
        "        iter +=1 \n",
        "        \n",
        "        if iter % 500 == 0:\n",
        "          # Calculate Accuracy\n",
        "          correct = 0\n",
        "          total = 0\n",
        "          # Iterate through test dataset\n",
        "          for images, labels in test_loader:\n",
        "            #\n",
        "              images = Variable(images.view(-1, 28 * 28))\n",
        "              \n",
        "              # Forward pass only to get logits/output\n",
        "              outputs = model(images)\n",
        "              \n",
        "              # Get predictions from the maximum value\n",
        "              _, predicted = torch.max(outputs.data, 1)\n",
        "              \n",
        "              # Total number of labels\n",
        "              total += labels.size(0)\n",
        "              \n",
        "              # Total correct predictions\n",
        "              correct += (predicted == labels).sum()\n",
        "              \n",
        "          accurarcy = 100 * correct / total\n",
        "          \n",
        "          # Print Loss\n",
        "          \n",
        "          print('Iteration: {}.Loss: {}. Accuracy: {}'.format(iter, loss.data[0], accurarcy))"
      ],
      "execution_count": 66,
      "outputs": [
        {
          "output_type": "stream",
          "text": [
            "Iteration: 500.Loss: 1.8602638244628906. Accuracy: 68.05\n",
            "Iteration: 1000.Loss: 1.5452009439468384. Accuracy: 76.1\n",
            "Iteration: 1500.Loss: 1.3630366325378418. Accuracy: 78.85\n",
            "Iteration: 2000.Loss: 1.1978760957717896. Accuracy: 81.04\n",
            "Iteration: 2500.Loss: 1.0654972791671753. Accuracy: 81.98\n",
            "Iteration: 3000.Loss: 0.98313307762146. Accuracy: 82.8\n"
          ],
          "name": "stdout"
        }
      ]
    },
    {
      "metadata": {
        "id": "6_INkmtj-vW8",
        "colab_type": "code",
        "colab": {
          "autoexec": {
            "startup": false,
            "wait_interval": 0
          },
          "base_uri": "https://localhost:8080/",
          "height": 69
        },
        "outputId": "ca3f3815-80a9-4da5-a7ad-15c8f5d9c0b9",
        "executionInfo": {
          "status": "ok",
          "timestamp": 1528560914786,
          "user_tz": -60,
          "elapsed": 732,
          "user": {
            "displayName": "George Igwegbe",
            "photoUrl": "//lh3.googleusercontent.com/-VGzYC8aUsgY/AAAAAAAAAAI/AAAAAAAAAs8/5fZKxSg6fJs/s50-c-k-no/photo.jpg",
            "userId": "117677675546471076295"
          }
        }
      },
      "cell_type": "code",
      "source": [
        "print(model)"
      ],
      "execution_count": 67,
      "outputs": [
        {
          "output_type": "stream",
          "text": [
            "LogisticRegressionModel(\n",
            "  (linear): Linear(in_features=784, out_features=10)\n",
            ")\n"
          ],
          "name": "stdout"
        }
      ]
    },
    {
      "metadata": {
        "id": "bMNhl4N43vKt",
        "colab_type": "text"
      },
      "cell_type": "markdown",
      "source": [
        "**Flatten images**"
      ]
    },
    {
      "metadata": {
        "id": "wKS16JoM16ye",
        "colab_type": "code",
        "colab": {
          "autoexec": {
            "startup": false,
            "wait_interval": 0
          }
        }
      },
      "cell_type": "code",
      "source": [
        "a = torch.Tensor([1,2,3,4,5])\n",
        "a\n"
      ],
      "execution_count": 0,
      "outputs": []
    },
    {
      "metadata": {
        "id": "zSk83a0z4Rhh",
        "colab_type": "code",
        "colab": {
          "autoexec": {
            "startup": false,
            "wait_interval": 0
          }
        }
      },
      "cell_type": "code",
      "source": [
        "a.shape"
      ],
      "execution_count": 0,
      "outputs": []
    },
    {
      "metadata": {
        "id": "38ssctdt37-8",
        "colab_type": "code",
        "colab": {
          "autoexec": {
            "startup": false,
            "wait_interval": 0
          }
        }
      },
      "cell_type": "code",
      "source": [
        "a = a.unsqueeze(0)\n",
        "a"
      ],
      "execution_count": 0,
      "outputs": []
    },
    {
      "metadata": {
        "id": "SoSlXknA39ZX",
        "colab_type": "code",
        "colab": {
          "autoexec": {
            "startup": false,
            "wait_interval": 0
          }
        }
      },
      "cell_type": "code",
      "source": [
        "b = torch.Tensor([1,2,3,4,5])"
      ],
      "execution_count": 0,
      "outputs": []
    },
    {
      "metadata": {
        "id": "DF9ShKfc4cbN",
        "colab_type": "code",
        "colab": {
          "autoexec": {
            "startup": false,
            "wait_interval": 0
          }
        }
      },
      "cell_type": "code",
      "source": [
        "b.view(1,-1)"
      ],
      "execution_count": 0,
      "outputs": []
    },
    {
      "metadata": {
        "id": "7N0nwRI14uim",
        "colab_type": "text"
      },
      "cell_type": "markdown",
      "source": [
        "**Testing of images**"
      ]
    },
    {
      "metadata": {
        "id": "hsoIbIVq4gng",
        "colab_type": "code",
        "colab": {
          "autoexec": {
            "startup": false,
            "wait_interval": 0
          },
          "base_uri": "https://localhost:8080/",
          "height": 277
        },
        "outputId": "51124aac-7d28-4874-cc7d-45383469aeca",
        "executionInfo": {
          "status": "ok",
          "timestamp": 1528560948055,
          "user_tz": -60,
          "elapsed": 2367,
          "user": {
            "displayName": "George Igwegbe",
            "photoUrl": "//lh3.googleusercontent.com/-VGzYC8aUsgY/AAAAAAAAAAI/AAAAAAAAAs8/5fZKxSg6fJs/s50-c-k-no/photo.jpg",
            "userId": "117677675546471076295"
          }
        }
      },
      "cell_type": "code",
      "source": [
        "iter_test = 0\n",
        "for images, labels in test_loader:\n",
        "  iter_test +=1\n",
        "  images = Variable(images.view(-1, 28*28))\n",
        "  outputs = model(images)\n",
        "  if iter_test == 1:\n",
        "    print(\"OUTPUTS\")\n",
        "    print(outputs.size())\n",
        "    print(outputs[0, :])\n",
        "    _, predicted = torch.max(outputs.data, 1)"
      ],
      "execution_count": 68,
      "outputs": [
        {
          "output_type": "stream",
          "text": [
            "OUTPUTS\n",
            "torch.Size([100, 10])\n",
            "Variable containing:\n",
            "-0.3925\n",
            "-1.4462\n",
            "-0.3311\n",
            "-0.2511\n",
            " 0.1875\n",
            "-0.2688\n",
            "-1.1320\n",
            " 2.8711\n",
            "-0.0762\n",
            " 1.0515\n",
            "[torch.FloatTensor of size 10]\n",
            "\n"
          ],
          "name": "stdout"
        }
      ]
    },
    {
      "metadata": {
        "id": "ABExZJjt8szz",
        "colab_type": "code",
        "colab": {
          "autoexec": {
            "startup": false,
            "wait_interval": 0
          }
        }
      },
      "cell_type": "code",
      "source": [
        "show_img = test_dataset[0][0].numpy().reshape(28,28)"
      ],
      "execution_count": 0,
      "outputs": []
    },
    {
      "metadata": {
        "id": "mxzBqg3b80as",
        "colab_type": "code",
        "colab": {
          "autoexec": {
            "startup": false,
            "wait_interval": 0
          },
          "base_uri": "https://localhost:8080/",
          "height": 365
        },
        "outputId": "b334c7d7-52af-41cb-e93e-4cccaaee88ec",
        "executionInfo": {
          "status": "ok",
          "timestamp": 1528560981181,
          "user_tz": -60,
          "elapsed": 1697,
          "user": {
            "displayName": "George Igwegbe",
            "photoUrl": "//lh3.googleusercontent.com/-VGzYC8aUsgY/AAAAAAAAAAI/AAAAAAAAAs8/5fZKxSg6fJs/s50-c-k-no/photo.jpg",
            "userId": "117677675546471076295"
          }
        }
      },
      "cell_type": "code",
      "source": [
        "plt.imshow(show_img, cmap='gray')"
      ],
      "execution_count": 70,
      "outputs": [
        {
          "output_type": "execute_result",
          "data": {
            "text/plain": [
              "<matplotlib.image.AxesImage at 0x7f870a4c0b70>"
            ]
          },
          "metadata": {
            "tags": []
          },
          "execution_count": 70
        },
        {
          "output_type": "display_data",
          "data": {
            "image/png": "[encoded data removed]",
            "text/plain": [
              "<matplotlib.figure.Figure at 0x7f870a50c320>"
            ]
          },
          "metadata": {
            "tags": []
          }
        }
      ]
    },
    {
      "metadata": {
        "id": "4SSQSc6o9HO1",
        "colab_type": "code",
        "colab": {
          "autoexec": {
            "startup": false,
            "wait_interval": 0
          },
          "base_uri": "https://localhost:8080/",
          "height": 34
        },
        "outputId": "4db9561f-ea4b-40ec-ed28-34761517ea6a",
        "executionInfo": {
          "status": "ok",
          "timestamp": 1528560988602,
          "user_tz": -60,
          "elapsed": 1693,
          "user": {
            "displayName": "George Igwegbe",
            "photoUrl": "//lh3.googleusercontent.com/-VGzYC8aUsgY/AAAAAAAAAAI/AAAAAAAAAs8/5fZKxSg6fJs/s50-c-k-no/photo.jpg",
            "userId": "117677675546471076295"
          }
        }
      },
      "cell_type": "code",
      "source": [
        "# Label\n",
        "test_dataset[0][1]"
      ],
      "execution_count": 71,
      "outputs": [
        {
          "output_type": "execute_result",
          "data": {
            "text/plain": [
              "7"
            ]
          },
          "metadata": {
            "tags": []
          },
          "execution_count": 71
        }
      ]
    },
    {
      "metadata": {
        "id": "Gx1Txqmr76e5",
        "colab_type": "text"
      },
      "cell_type": "markdown",
      "source": [
        "**Save Model**"
      ]
    },
    {
      "metadata": {
        "id": "zxtsVFuE7Tat",
        "colab_type": "code",
        "colab": {
          "autoexec": {
            "startup": false,
            "wait_interval": 0
          }
        }
      },
      "cell_type": "code",
      "source": [
        "save_model = False\n",
        "if save_model is True:\n",
        "  # Save only parameters\n",
        "  torch.save(model.state_dict(), \"/content/Resources/2018/cohort2/PyTorch/Week3/data/mnist_model.pkl\")"
      ],
      "execution_count": 0,
      "outputs": []
    },
    {
      "metadata": {
        "id": "T8eTYQge-2F9",
        "colab_type": "text"
      },
      "cell_type": "markdown",
      "source": [
        "# Change to GPU : It is fine 😊😊😊😊(Take home)"
      ]
    },
    {
      "metadata": {
        "id": "DEbZQA0Q-9nA",
        "colab_type": "text"
      },
      "cell_type": "markdown",
      "source": [
        "Change **model** and **Variable**"
      ]
    }
  ]
}
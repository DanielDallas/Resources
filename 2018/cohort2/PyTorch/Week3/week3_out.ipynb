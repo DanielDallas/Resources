{
  "nbformat": 4,
  "nbformat_minor": 0,
  "metadata": {
    "colab": {
      "name": "week3_out.ipynb",
      "version": "0.3.2",
      "views": {},
      "default_view": {},
      "provenance": []
    },
    "kernelspec": {
      "name": "python3",
      "display_name": "Python 3"
    }
  },
  "cells": [
    {
      "metadata": {
        "id": "s5pTnAijeoIm",
        "colab_type": "text"
      },
      "cell_type": "markdown",
      "source": [
        "# **Week 3** : Linear regression"
      ]
    },
    {
      "metadata": {
        "id": "QhePxMnoe8_G",
        "colab_type": "text"
      },
      "cell_type": "markdown",
      "source": [
        "Clone the AISaturdaysLagos Resources repo.\n",
        "\n",
        "Navigate to the PyTorch **Week3/data** folder"
      ]
    },
    {
      "metadata": {
        "id": "Cm7sJOi4f1MO",
        "colab_type": "code",
        "colab": {
          "autoexec": {
            "startup": false,
            "wait_interval": 0
          }
        }
      },
      "cell_type": "code",
      "source": [
        "!git clone https://github.com/AISaturdaysLagos/Resources.git"
      ],
      "execution_count": 0,
      "outputs": []
    },
    {
      "metadata": {
        "id": "pi3-wvq7fG71",
        "colab_type": "code",
        "colab": {
          "autoexec": {
            "startup": false,
            "wait_interval": 0
          }
        }
      },
      "cell_type": "code",
      "source": [
        "cd Resources/2018/cohort2/PyTorch/Week3/data/"
      ],
      "execution_count": 0,
      "outputs": []
    },
    {
      "metadata": {
        "id": "B-Daz2e5fnV5",
        "colab_type": "code",
        "colab": {
          "autoexec": {
            "startup": false,
            "wait_interval": 0
          }
        }
      },
      "cell_type": "code",
      "source": [
        "PATH = \"/content/Resources/2018/cohort2/PyTorch/Week3/data\"\n"
      ],
      "execution_count": 0,
      "outputs": []
    },
    {
      "metadata": {
        "id": "kmPORtgFgo18",
        "colab_type": "text"
      },
      "cell_type": "markdown",
      "source": [
        "**Import PyTorch dependencies**"
      ]
    },
    {
      "metadata": {
        "id": "_81bU5GRgga8",
        "colab_type": "code",
        "colab": {
          "autoexec": {
            "startup": false,
            "wait_interval": 0
          }
        }
      },
      "cell_type": "code",
      "source": [
        "from os import path\n",
        "from wheel.pep425tags import get_abbr_impl, get_impl_ver, get_abi_tag\n",
        "platform = '{}{}-{}'.format(get_abbr_impl(), get_impl_ver(), get_abi_tag())\n",
        "\n",
        "accelerator = 'cu80' if path.exists('/opt/bin/nvidia-smi') else 'cpu'\n",
        "\n",
        "!pip install -q http://download.pytorch.org/whl/{accelerator}/torch-0.3.0.post4-{platform}-linux_x86_64.whl torchvision\n"
      ],
      "execution_count": 0,
      "outputs": []
    },
    {
      "metadata": {
        "id": "ALPx-1vugv_a",
        "colab_type": "code",
        "colab": {
          "autoexec": {
            "startup": false,
            "wait_interval": 0
          }
        }
      },
      "cell_type": "code",
      "source": [
        "import numpy as np\n",
        "import torch\n",
        "from torch.utils.data import Dataset, DataLoader\n"
      ],
      "execution_count": 0,
      "outputs": []
    },
    {
      "metadata": {
        "id": "YkFeMMZHhJT7",
        "colab_type": "text"
      },
      "cell_type": "markdown",
      "source": [
        "**Data analysis**"
      ]
    },
    {
      "metadata": {
        "id": "RO8AgF7cRmsq",
        "colab_type": "text"
      },
      "cell_type": "markdown",
      "source": [
        " np.genfromtxt('birth_life_2010.txt',delimiter='\\t',usecols=(1,2), skip_header=1, dtype=np.double)"
      ]
    },
    {
      "metadata": {
        "id": "2cfIOJP-hEXR",
        "colab_type": "code",
        "colab": {
          "autoexec": {
            "startup": false,
            "wait_interval": 0
          }
        }
      },
      "cell_type": "code",
      "source": [
        ""
      ],
      "execution_count": 0,
      "outputs": []
    },
    {
      "metadata": {
        "id": "SMtC_I4YR5VU",
        "colab_type": "text"
      },
      "cell_type": "markdown",
      "source": [
        "sample: **data[0]**"
      ]
    },
    {
      "metadata": {
        "id": "VoKZydxCh2ec",
        "colab_type": "code",
        "colab": {
          "autoexec": {
            "startup": false,
            "wait_interval": 0
          }
        }
      },
      "cell_type": "code",
      "source": [
        ""
      ],
      "execution_count": 0,
      "outputs": []
    },
    {
      "metadata": {
        "id": "A-sgjqEgSETk",
        "colab_type": "text"
      },
      "cell_type": "markdown",
      "source": [
        "**data.shape**"
      ]
    },
    {
      "metadata": {
        "id": "ErNo114kis5v",
        "colab_type": "code",
        "colab": {
          "autoexec": {
            "startup": false,
            "wait_interval": 0
          }
        }
      },
      "cell_type": "code",
      "source": [
        ""
      ],
      "execution_count": 0,
      "outputs": []
    },
    {
      "metadata": {
        "id": "QEO2AK2TSSQ4",
        "colab_type": "text"
      },
      "cell_type": "markdown",
      "source": [
        "**Reshape** train_ = np.reshape(data[], (reshape dimension))"
      ]
    },
    {
      "metadata": {
        "id": "arTqpKLviLwh",
        "colab_type": "code",
        "colab": {
          "autoexec": {
            "startup": false,
            "wait_interval": 0
          }
        }
      },
      "cell_type": "code",
      "source": [
        ""
      ],
      "execution_count": 0,
      "outputs": []
    },
    {
      "metadata": {
        "id": "1s8LJbu2Slgv",
        "colab_type": "text"
      },
      "cell_type": "markdown",
      "source": [
        "Verify the shape"
      ]
    },
    {
      "metadata": {
        "id": "CXcFxzaYi0kt",
        "colab_type": "code",
        "colab": {
          "autoexec": {
            "startup": false,
            "wait_interval": 0
          }
        }
      },
      "cell_type": "code",
      "source": [
        ""
      ],
      "execution_count": 0,
      "outputs": []
    },
    {
      "metadata": {
        "id": "ldZHL7NxjXtl",
        "colab_type": "text"
      },
      "cell_type": "markdown",
      "source": [
        "Convert numpy **ndarray** to **torch tensor**  \n",
        "\n",
        "1.  x_data = torch.from_numpy(train_x)\n",
        "2.   y_data = torch.from_numpy(train_y)\n",
        "\n"
      ]
    },
    {
      "metadata": {
        "id": "Jl1a5acEjIeD",
        "colab_type": "code",
        "colab": {
          "autoexec": {
            "startup": false,
            "wait_interval": 0
          }
        }
      },
      "cell_type": "code",
      "source": [
        ""
      ],
      "execution_count": 0,
      "outputs": []
    },
    {
      "metadata": {
        "id": "H6weJSPNTAx6",
        "colab_type": "text"
      },
      "cell_type": "markdown",
      "source": [
        "Verify the** type(x_data)**"
      ]
    },
    {
      "metadata": {
        "id": "JXBwk0Z5jsVj",
        "colab_type": "code",
        "colab": {
          "autoexec": {
            "startup": false,
            "wait_interval": 0
          }
        }
      },
      "cell_type": "code",
      "source": [
        ""
      ],
      "execution_count": 0,
      "outputs": []
    },
    {
      "metadata": {
        "id": "sSnFPdbFjx6e",
        "colab_type": "code",
        "colab": {
          "autoexec": {
            "startup": false,
            "wait_interval": 0
          }
        }
      },
      "cell_type": "code",
      "source": [
        "x_data.shape"
      ],
      "execution_count": 0,
      "outputs": []
    },
    {
      "metadata": {
        "id": "vWJoGtjPkBEZ",
        "colab_type": "text"
      },
      "cell_type": "markdown",
      "source": [
        "**Data Analysis and  VIsualization**"
      ]
    },
    {
      "metadata": {
        "id": "iUvCY1K9j7Z1",
        "colab_type": "code",
        "colab": {
          "autoexec": {
            "startup": false,
            "wait_interval": 0
          }
        }
      },
      "cell_type": "code",
      "source": [
        "Nigeria = data[159]\n",
        "print(Nigeria)"
      ],
      "execution_count": 0,
      "outputs": []
    },
    {
      "metadata": {
        "id": "n_th6QLgkShU",
        "colab_type": "code",
        "colab": {
          "autoexec": {
            "startup": false,
            "wait_interval": 0
          }
        }
      },
      "cell_type": "code",
      "source": [
        "India = data[141]\n",
        "print(India)"
      ],
      "execution_count": 0,
      "outputs": []
    },
    {
      "metadata": {
        "id": "wwy7WgZakV7z",
        "colab_type": "code",
        "colab": {
          "autoexec": {
            "startup": false,
            "wait_interval": 0
          }
        }
      },
      "cell_type": "code",
      "source": [
        "China = data[21]\n",
        "print(China)"
      ],
      "execution_count": 0,
      "outputs": []
    },
    {
      "metadata": {
        "id": "63_Jqiwokdyb",
        "colab_type": "code",
        "colab": {
          "autoexec": {
            "startup": false,
            "wait_interval": 0
          }
        }
      },
      "cell_type": "code",
      "source": [
        "Japan = data[19]\n",
        "print(Japan)"
      ],
      "execution_count": 0,
      "outputs": []
    },
    {
      "metadata": {
        "id": "jmwx7a1Er6Rq",
        "colab_type": "text"
      },
      "cell_type": "markdown",
      "source": [
        "Visualization **import matplotlib.pyplot as plt**"
      ]
    },
    {
      "metadata": {
        "id": "9Uxpdj3CsCvt",
        "colab_type": "code",
        "colab": {
          "autoexec": {
            "startup": false,
            "wait_interval": 0
          }
        }
      },
      "cell_type": "code",
      "source": [
        "import matplotlib.pyplot as plt"
      ],
      "execution_count": 0,
      "outputs": []
    },
    {
      "metadata": {
        "id": "0OfLJqogqsFu",
        "colab_type": "code",
        "colab": {
          "autoexec": {
            "startup": false,
            "wait_interval": 0
          }
        }
      },
      "cell_type": "code",
      "source": [
        "\n",
        "# Plotting example dataset# Plottin \n",
        "plt.figure(figsize = (20,4),dpi=150)\n",
        "plt.subplot(121)\n",
        "plt.scatter(y_data,x_data)\n",
        "\n",
        "# Country with data\n",
        "plt.scatter(y_data[159],x_data[159], color='red') # Nigeria\n",
        "plt.scatter(y_data[21],x_data[21], color='black') # China\n",
        "plt.scatter(y_data[141],x_data[141], color='purple') # India\n",
        "plt.scatter(y_data[19],x_data[19], color='green') # Japan\n",
        "\n",
        "# Axis label\n",
        "plt.ylabel(\"Birth Rate\")\n",
        "plt.xlabel(\"Life Expectancy\")\n",
        "plt.show()"
      ],
      "execution_count": 0,
      "outputs": []
    },
    {
      "metadata": {
        "id": "5BKW0CugtJrU",
        "colab_type": "text"
      },
      "cell_type": "markdown",
      "source": [
        "**Linear regression **\n",
        "\n",
        "\n",
        "> Import torch.nn as nn\n",
        "\n"
      ]
    },
    {
      "metadata": {
        "id": "nH8f0-4qr1qc",
        "colab_type": "code",
        "colab": {
          "autoexec": {
            "startup": false,
            "wait_interval": 0
          }
        }
      },
      "cell_type": "code",
      "source": [
        "import torch.nn as nn"
      ],
      "execution_count": 0,
      "outputs": []
    },
    {
      "metadata": {
        "id": "FIIX_MnOtYk5",
        "colab_type": "code",
        "colab": {
          "autoexec": {
            "startup": false,
            "wait_interval": 0
          }
        }
      },
      "cell_type": "code",
      "source": [
        "#Step 1: Create Model Class\n",
        "\n",
        "# Linear Regression Model\n",
        "class LinearRegression(nn.Module):\n",
        "    def __init__(self):\n",
        "        super(LinearRegression, self).__init__()\n",
        "        self.linear = nn.Linear(1, 1)  # input and output is 1 dimension\n",
        "\n",
        "    def forward(self, x):\n",
        "        out = self.linear(x)\n",
        "        return out"
      ],
      "execution_count": 0,
      "outputs": []
    },
    {
      "metadata": {
        "id": "6ulF1jCXtcub",
        "colab_type": "code",
        "colab": {
          "autoexec": {
            "startup": false,
            "wait_interval": 0
          }
        }
      },
      "cell_type": "code",
      "source": [
        "#Step 2: Instantiate Model Class\n",
        "model = LinearRegression()"
      ],
      "execution_count": 0,
      "outputs": []
    },
    {
      "metadata": {
        "id": "3wSJ7NFATdDb",
        "colab_type": "text"
      },
      "cell_type": "markdown",
      "source": [
        "**learning rate** = 0.001"
      ]
    },
    {
      "metadata": {
        "id": "sJnqImLatiB7",
        "colab_type": "code",
        "colab": {
          "autoexec": {
            "startup": false,
            "wait_interval": 0
          }
        }
      },
      "cell_type": "code",
      "source": [
        "criterion = nn.MSELoss()\n",
        "learning_rate = \n",
        "\n",
        "#Step 4: Instantiate Optimizer class\n",
        "optimizer = torch.optim.SGD(model.parameters(), lr = learning_rate)"
      ],
      "execution_count": 0,
      "outputs": []
    },
    {
      "metadata": {
        "id": "EA5Fx6yqtok7",
        "colab_type": "text"
      },
      "cell_type": "markdown",
      "source": [
        "**Variable: Wrapper for Tensor 😊**\n",
        "\n",
        "\n",
        "> from torch.autograd import Variable\n",
        "\n"
      ]
    },
    {
      "metadata": {
        "id": "-WFYdjlxtmpV",
        "colab_type": "code",
        "colab": {
          "autoexec": {
            "startup": false,
            "wait_interval": 0
          }
        }
      },
      "cell_type": "code",
      "source": [
        "from torch.autograd import Variable"
      ],
      "execution_count": 0,
      "outputs": []
    },
    {
      "metadata": {
        "id": "VxrF-5x2u4ZT",
        "colab_type": "code",
        "colab": {
          "autoexec": {
            "startup": false,
            "wait_interval": 0
          }
        }
      },
      "cell_type": "code",
      "source": [
        "epochs =  10000"
      ],
      "execution_count": 0,
      "outputs": []
    },
    {
      "metadata": {
        "id": "q82QAn8Pu7ee",
        "colab_type": "code",
        "colab": {
          "autoexec": {
            "startup": false,
            "wait_interval": 0
          }
        }
      },
      "cell_type": "code",
      "source": [
        "# Step 5: Train Model# Step 5 \n",
        "\n",
        "for epoch in range(epochs):\n",
        "    epoch += 1\n",
        "    # Convert numpy array to torch Variable\n",
        "    inputs = Variable((x_data)).float()\n",
        "    labels = Variable((y_data)).float()\n",
        "    \n",
        "    \n",
        "    #Clear gradient w.r.t parameters(To prevent updating with  previous gradient)\n",
        "    optimizer.zero_grad()\n",
        "    \n",
        "    #Forward to get output\n",
        "    outputs = model(inputs)\n",
        "    \n",
        "    \n",
        "    #Calculate Loss\n",
        "    loss = criterion(outputs, labels)\n",
        "    \n",
        "    \n",
        "    # Getting gradients w.r.t parameters (scalar loss)\n",
        "    loss.backward()\n",
        "    \n",
        "    #updating parameters (m and b)\n",
        "    optimizer.step()\n",
        "    \n",
        "    if epoch % 500 ==0:\n",
        "      print('epoch {}, loss {}'.format(epoch, loss.data[0]))\n",
        "    \n",
        "    "
      ],
      "execution_count": 0,
      "outputs": []
    },
    {
      "metadata": {
        "id": "OmOEMZ5xu-Vo",
        "colab_type": "code",
        "colab": {
          "autoexec": {
            "startup": false,
            "wait_interval": 0
          }
        }
      },
      "cell_type": "code",
      "source": [
        "# Clear figure\n",
        "plt.clf()\n",
        "\n",
        "# Get predictions\n",
        "predicted = model(Variable((x_data.float()))).data.numpy()\n",
        "\n",
        "# Plot true data\n",
        "plt.plot(x_data.numpy(), y_data.numpy(), 'go', label= 'True data', alpha=.5, color='blue')\n",
        "\n",
        "# Plot predictions\n",
        "plt.plot(x_data.numpy(), predicted, '--', label=\"Predictions\", alpha=.5, color='red')\n",
        "\n",
        "\n",
        "# Legend and plot\n",
        "plt.legend(loc='best')\n",
        "plt.show()"
      ],
      "execution_count": 0,
      "outputs": []
    },
    {
      "metadata": {
        "id": "hQNXPOnOOn9I",
        "colab_type": "code",
        "colab": {
          "autoexec": {
            "startup": false,
            "wait_interval": 0
          }
        }
      },
      "cell_type": "code",
      "source": [
        "print(model.state_dict())"
      ],
      "execution_count": 0,
      "outputs": []
    },
    {
      "metadata": {
        "id": "iaCA7zb3P2HY",
        "colab_type": "text"
      },
      "cell_type": "markdown",
      "source": [
        "Equation of a line y =** ?**x +** ?**"
      ]
    },
    {
      "metadata": {
        "id": "bjWYp7xyvWZn",
        "colab_type": "text"
      },
      "cell_type": "markdown",
      "source": [
        "# **Logistic Regression**"
      ]
    },
    {
      "metadata": {
        "id": "w83G5el5vqR7",
        "colab_type": "text"
      },
      "cell_type": "markdown",
      "source": [
        "Predicting Probability \n",
        "\n",
        "\n",
        "> Linear regression does not work\n",
        "\n",
        ">Instead of predicting direct values**: predict probability**\n"
      ]
    },
    {
      "metadata": {
        "id": "Zo3YuNPRvz5V",
        "colab_type": "text"
      },
      "cell_type": "markdown",
      "source": [
        "torchvision for image dataloading"
      ]
    },
    {
      "metadata": {
        "id": "XDzGWxy8vbDZ",
        "colab_type": "code",
        "colab": {
          "autoexec": {
            "startup": false,
            "wait_interval": 0
          }
        }
      },
      "cell_type": "code",
      "source": [
        "import torch\n",
        "import torch.nn as nn\n",
        "import torchvision\n",
        "import torchvision.transforms as transforms"
      ],
      "execution_count": 0,
      "outputs": []
    },
    {
      "metadata": {
        "id": "xTBcXApywmiT",
        "colab_type": "text"
      },
      "cell_type": "markdown",
      "source": [
        "-  **Note**: train_dataset train=**True**  and test_dataset=**False**\n",
        "\n"
      ]
    },
    {
      "metadata": {
        "id": "hfNdtSaVvy-Z",
        "colab_type": "code",
        "colab": {
          "autoexec": {
            "startup": false,
            "wait_interval": 0
          }
        }
      },
      "cell_type": "code",
      "source": [
        "train_dataset = torchvision.datasets.MNIST(root='../../data', \n",
        "                                           train=.., \n",
        "                                           transform=transforms.ToTensor(),\n",
        "                                           download=True)\n",
        "\n",
        "test_dataset = torchvision.datasets.MNIST(root='../../data', \n",
        "                                          train=..., \n",
        "                                          transform=transforms.ToTensor())\n",
        "\n"
      ],
      "execution_count": 0,
      "outputs": []
    },
    {
      "metadata": {
        "id": "byD8VUvex8N9",
        "colab_type": "text"
      },
      "cell_type": "markdown",
      "source": [
        "-  **Note**: train_loader shuffle=**True**(Avoid overfitting) and test_loader=shuffle=**False**"
      ]
    },
    {
      "metadata": {
        "id": "z6jVP2WKxyZF",
        "colab_type": "code",
        "colab": {
          "autoexec": {
            "startup": false,
            "wait_interval": 0
          }
        }
      },
      "cell_type": "code",
      "source": [
        "# Data loader (input pipeline)\n",
        "train_loader = torch.utils.data.DataLoader(dataset=train_dataset, batch_size=100, \n",
        "                                           shuffle=..)\n",
        "\n",
        "test_loader = torch.utils.data.DataLoader(dataset=test_dataset, batch_size=100, \n",
        "                                          shuffle=..)"
      ],
      "execution_count": 0,
      "outputs": []
    },
    {
      "metadata": {
        "id": "fgi9qvTdyfx6",
        "colab_type": "text"
      },
      "cell_type": "markdown",
      "source": [
        "**Data analysis and Data visualization**"
      ]
    },
    {
      "metadata": {
        "id": "fZ-FZM6dx_vJ",
        "colab_type": "code",
        "colab": {
          "autoexec": {
            "startup": false,
            "wait_interval": 0
          }
        }
      },
      "cell_type": "code",
      "source": [
        "len(train_dataset)"
      ],
      "execution_count": 0,
      "outputs": []
    },
    {
      "metadata": {
        "id": "_UbWjdLNynY-",
        "colab_type": "code",
        "colab": {
          "autoexec": {
            "startup": false,
            "wait_interval": 0
          }
        }
      },
      "cell_type": "code",
      "source": [
        "len(test_dataset)"
      ],
      "execution_count": 0,
      "outputs": []
    },
    {
      "metadata": {
        "id": "oO-YX0K3yqRN",
        "colab_type": "code",
        "colab": {
          "autoexec": {
            "startup": false,
            "wait_interval": 0
          }
        }
      },
      "cell_type": "code",
      "source": [
        "train_dataset[0]"
      ],
      "execution_count": 0,
      "outputs": []
    },
    {
      "metadata": {
        "id": "7QiU1KulytDv",
        "colab_type": "code",
        "colab": {
          "autoexec": {
            "startup": false,
            "wait_interval": 0
          }
        }
      },
      "cell_type": "code",
      "source": [
        "type(train_dataset[0])\n"
      ],
      "execution_count": 0,
      "outputs": []
    },
    {
      "metadata": {
        "id": "8gksrFRVy6Fs",
        "colab_type": "text"
      },
      "cell_type": "markdown",
      "source": [
        "Input size:   **28px * 28px**"
      ]
    },
    {
      "metadata": {
        "id": "I_f7XxypyyUE",
        "colab_type": "code",
        "colab": {
          "autoexec": {
            "startup": false,
            "wait_interval": 0
          }
        }
      },
      "cell_type": "code",
      "source": [
        "train_dataset[0][0].size()"
      ],
      "execution_count": 0,
      "outputs": []
    },
    {
      "metadata": {
        "id": "kc6ciRvczNS5",
        "colab_type": "text"
      },
      "cell_type": "markdown",
      "source": [
        "Do you know why the **1 **?"
      ]
    },
    {
      "metadata": {
        "id": "B6sns9MJzYh8",
        "colab_type": "text"
      },
      "cell_type": "markdown",
      "source": [
        "The true label"
      ]
    },
    {
      "metadata": {
        "id": "ZkQlONM7y0kJ",
        "colab_type": "code",
        "colab": {
          "autoexec": {
            "startup": false,
            "wait_interval": 0
          }
        }
      },
      "cell_type": "code",
      "source": [
        "train_dataset[0][1]"
      ],
      "execution_count": 0,
      "outputs": []
    },
    {
      "metadata": {
        "id": "PiXI0E25zgrE",
        "colab_type": "text"
      },
      "cell_type": "markdown",
      "source": [
        "**Visualization of  MNIST**"
      ]
    },
    {
      "metadata": {
        "id": "CueudeAxy27-",
        "colab_type": "code",
        "colab": {
          "autoexec": {
            "startup": false,
            "wait_interval": 0
          }
        }
      },
      "cell_type": "code",
      "source": [
        "import matplotlib.pyplot as plt"
      ],
      "execution_count": 0,
      "outputs": []
    },
    {
      "metadata": {
        "id": "8nfZf3Eyzpaa",
        "colab_type": "code",
        "colab": {
          "autoexec": {
            "startup": false,
            "wait_interval": 0
          }
        }
      },
      "cell_type": "code",
      "source": [
        "train_dataset[0][0].numpy().shape"
      ],
      "execution_count": 0,
      "outputs": []
    },
    {
      "metadata": {
        "id": "hQaPDX_AzrxA",
        "colab_type": "code",
        "colab": {
          "autoexec": {
            "startup": false,
            "wait_interval": 0
          }
        }
      },
      "cell_type": "code",
      "source": [
        "show_img = train_dataset[0][0].numpy().reshape(28,28)"
      ],
      "execution_count": 0,
      "outputs": []
    },
    {
      "metadata": {
        "id": "bd2LyyX_zudv",
        "colab_type": "code",
        "colab": {
          "autoexec": {
            "startup": false,
            "wait_interval": 0
          }
        }
      },
      "cell_type": "code",
      "source": [
        "plt.imshow(show_img, cmap='gray')"
      ],
      "execution_count": 0,
      "outputs": []
    },
    {
      "metadata": {
        "id": "n5VYKtoxzwpk",
        "colab_type": "code",
        "colab": {
          "autoexec": {
            "startup": false,
            "wait_interval": 0
          }
        }
      },
      "cell_type": "code",
      "source": [
        "# Label\n",
        "train_dataset[0][1]"
      ],
      "execution_count": 0,
      "outputs": []
    },
    {
      "metadata": {
        "id": "R1Cs-Js8z1tU",
        "colab_type": "text"
      },
      "cell_type": "markdown",
      "source": [
        "**Make the Dataset Iterable**\n",
        "\n",
        "- Aim: make the dataset iterable\n",
        "- **totaldata** : 6000\n",
        "- **minibatch**: 100\n",
        "-**iterations**: 3000\n",
        "-**epochs**\n",
        "     - 1 epoch: running through the  whole dataset once\n",
        "     - $epochs = iterations  \\div \\frac {totalbatch}{minibatch} = 3000 \\div \\frac{6000}{100}= 5$\n",
        "\n"
      ]
    },
    {
      "metadata": {
        "id": "LTQR2Axkzzaa",
        "colab_type": "code",
        "colab": {
          "autoexec": {
            "startup": false,
            "wait_interval": 0
          }
        }
      },
      "cell_type": "code",
      "source": [
        "len(train_dataset)"
      ],
      "execution_count": 0,
      "outputs": []
    },
    {
      "metadata": {
        "id": "3lxATnTjz5_7",
        "colab_type": "code",
        "colab": {
          "autoexec": {
            "startup": false,
            "wait_interval": 0
          }
        }
      },
      "cell_type": "code",
      "source": [
        "batch_size = 100\n",
        "n_iters = 3000"
      ],
      "execution_count": 0,
      "outputs": []
    },
    {
      "metadata": {
        "id": "f_blTeTBz_1Q",
        "colab_type": "code",
        "colab": {
          "autoexec": {
            "startup": false,
            "wait_interval": 0
          }
        }
      },
      "cell_type": "code",
      "source": [
        "num_epochs = (int)(n_iters / (len(train_dataset) / batch_size))\n",
        "num_epochs"
      ],
      "execution_count": 0,
      "outputs": []
    },
    {
      "metadata": {
        "id": "8Mq8d_kb0XUu",
        "colab_type": "text"
      },
      "cell_type": "markdown",
      "source": [
        "**Building Model**"
      ]
    },
    {
      "metadata": {
        "id": "nW_rAVzd0DRH",
        "colab_type": "code",
        "colab": {
          "autoexec": {
            "startup": false,
            "wait_interval": 0
          }
        }
      },
      "cell_type": "code",
      "source": [
        "# This is the same as linear regression\n",
        "\n",
        "class LogisticRegressionModel(nn.Module):\n",
        "  def __init__(self,input_dim,output_dim):\n",
        "    super(LogisticRegressionModel, self).__init__()\n",
        "    self.linear = nn.Linear(input_dim, output_dim)\n",
        "    \n",
        "  def forward(self,x):\n",
        "    out = self.linear(x)\n",
        "    return out"
      ],
      "execution_count": 0,
      "outputs": []
    },
    {
      "metadata": {
        "id": "Ts_zbh6S006v",
        "colab_type": "text"
      },
      "cell_type": "markdown",
      "source": [
        "**step ?: Instantiate Model Class**\n",
        "- Input dimension:\n",
        "  - Size of image\n",
        "  - 28 x 28\n",
        "- Output dimension: 10\n",
        "  - 0,1,2,3,4,5,6,7,8,9,\n",
        " "
      ]
    },
    {
      "metadata": {
        "id": "X3d33Vtr0uMb",
        "colab_type": "code",
        "colab": {
          "autoexec": {
            "startup": false,
            "wait_interval": 0
          }
        }
      },
      "cell_type": "code",
      "source": [
        "# Size of images\n",
        "train_dataset[0][0].size()"
      ],
      "execution_count": 0,
      "outputs": []
    },
    {
      "metadata": {
        "id": "dvSdEG1C07gz",
        "colab_type": "code",
        "colab": {
          "autoexec": {
            "startup": false,
            "wait_interval": 0
          }
        }
      },
      "cell_type": "code",
      "source": [
        "input_dim = 28*28\n",
        "output_dim = 10\n",
        "\n",
        "model = LogisticRegressionModel(input_dim, output_dim)"
      ],
      "execution_count": 0,
      "outputs": []
    },
    {
      "metadata": {
        "id": "ulGLiUoK1BnE",
        "colab_type": "text"
      },
      "cell_type": "markdown",
      "source": [
        "Step 5: Instantiate Loss Class\n",
        "- Logistic Regression: Cross Entropy Loss\n",
        "  - Linear Regression : MSE"
      ]
    },
    {
      "metadata": {
        "id": "1YOWv21U1Jp6",
        "colab_type": "text"
      },
      "cell_type": "markdown",
      "source": [
        "What happens in nn.CrossEntropyLoss() --- add pic\n",
        "- Computes softmax(logistic/softmax function)\n",
        "- Computes cross entropy"
      ]
    },
    {
      "metadata": {
        "id": "FJzCeRm71FoT",
        "colab_type": "code",
        "colab": {
          "autoexec": {
            "startup": false,
            "wait_interval": 0
          }
        }
      },
      "cell_type": "code",
      "source": [
        "criterion = nn.CrossEntropyLoss()"
      ],
      "execution_count": 0,
      "outputs": []
    },
    {
      "metadata": {
        "id": "SzirtjzM1YUo",
        "colab_type": "text"
      },
      "cell_type": "markdown",
      "source": [
        "Instantiate Optimizer Class"
      ]
    },
    {
      "metadata": {
        "id": "EZLsMCWx1Rr6",
        "colab_type": "code",
        "colab": {
          "autoexec": {
            "startup": false,
            "wait_interval": 0
          }
        }
      },
      "cell_type": "code",
      "source": [
        "learning_rate = 0.001\n",
        "\n",
        "optimizer = torch.optim.SGD(model.parameters(), lr=learning_rate)"
      ],
      "execution_count": 0,
      "outputs": []
    },
    {
      "metadata": {
        "id": "oPQZ36no1ejv",
        "colab_type": "text"
      },
      "cell_type": "markdown",
      "source": [
        "Parameters In-Depth"
      ]
    },
    {
      "metadata": {
        "id": "uDhFScK-1a7B",
        "colab_type": "code",
        "colab": {
          "autoexec": {
            "startup": false,
            "wait_interval": 0
          }
        }
      },
      "cell_type": "code",
      "source": [
        "mp = model.parameters()"
      ],
      "execution_count": 0,
      "outputs": []
    },
    {
      "metadata": {
        "id": "NmWYVBNo1iR7",
        "colab_type": "code",
        "colab": {
          "autoexec": {
            "startup": false,
            "wait_interval": 0
          }
        }
      },
      "cell_type": "code",
      "source": [
        "print(mp)\n",
        "#print(list(mp)[1].size())  # Funny though\n",
        "print(list(mp)[0].size())"
      ],
      "execution_count": 0,
      "outputs": []
    },
    {
      "metadata": {
        "id": "8FJgHbEa1zCh",
        "colab_type": "text"
      },
      "cell_type": "markdown",
      "source": [
        "**Variable: Wrapper for Tensor 😊**\n",
        "\n",
        "\n",
        "> from torch.autograd import Variable\n",
        "\n"
      ]
    },
    {
      "metadata": {
        "id": "5SM4oKhT1q_3",
        "colab_type": "code",
        "colab": {
          "autoexec": {
            "startup": false,
            "wait_interval": 0
          }
        }
      },
      "cell_type": "code",
      "source": [
        "from torch.autograd import Variable"
      ],
      "execution_count": 0,
      "outputs": []
    },
    {
      "metadata": {
        "id": "R2xv54xs14Gl",
        "colab_type": "code",
        "colab": {
          "autoexec": {
            "startup": false,
            "wait_interval": 0
          }
        }
      },
      "cell_type": "code",
      "source": [
        "iter = 0\n",
        "for epoc in range(num_epochs):\n",
        "    for i, (images, labels) in enumerate(train_loader):\n",
        "    \n",
        "        # Load images as Variables\n",
        "        images = Variable(images.view(-1, 28 * 28))\n",
        "        labels = Variable(labels)\n",
        "        \n",
        "        # Clear gradients w.r.t parameters\n",
        "        optimizer.zero_grad()\n",
        "        \n",
        "        # Forward pass to get output/logits\n",
        "        outputs = model(images)\n",
        "        \n",
        "        # Calculate Loss: softmax --> cross entropy loss\n",
        "        loss = criterion(outputs, labels)\n",
        "        \n",
        "        # Getting gradients w.r.t parameters\n",
        "        loss.backward()\n",
        "        \n",
        "        # Updating parameters\n",
        "        optimizer.step()\n",
        "        \n",
        "        iter +=1 \n",
        "        \n",
        "        if iter % 500 == 0:\n",
        "          # Calculate Accuracy\n",
        "          correct = 0\n",
        "          total = 0\n",
        "          # Iterate through test dataset\n",
        "          for images, labels in test_loader:\n",
        "            #\n",
        "              images = Variable(images.view(-1, 28 * 28))\n",
        "              \n",
        "              # Forward pass only to get logits/output\n",
        "              outputs = model(images)\n",
        "              \n",
        "              # Get predictions from the maximum value\n",
        "              _, predicted = torch.max(outputs.data, 1)\n",
        "              \n",
        "              # Total number of labels\n",
        "              total += labels.size(0)\n",
        "              \n",
        "              # Total correct predictions\n",
        "              correct += (predicted == labels).sum()\n",
        "              \n",
        "          accurarcy = 100 * correct / total\n",
        "          \n",
        "          # Print Loss\n",
        "          \n",
        "          print('Iteration: {}.Loss: {}. Accuracy: {}'.format(iter, loss.data[0], accurarcy))"
      ],
      "execution_count": 0,
      "outputs": []
    },
    {
      "metadata": {
        "id": "6_INkmtj-vW8",
        "colab_type": "code",
        "colab": {
          "autoexec": {
            "startup": false,
            "wait_interval": 0
          }
        }
      },
      "cell_type": "code",
      "source": [
        "print(model)"
      ],
      "execution_count": 0,
      "outputs": []
    },
    {
      "metadata": {
        "id": "bMNhl4N43vKt",
        "colab_type": "text"
      },
      "cell_type": "markdown",
      "source": [
        "**Flatten images**"
      ]
    },
    {
      "metadata": {
        "id": "wKS16JoM16ye",
        "colab_type": "code",
        "colab": {
          "autoexec": {
            "startup": false,
            "wait_interval": 0
          }
        }
      },
      "cell_type": "code",
      "source": [
        "a = torch.Tensor([1,2,3,4,5])\n",
        "a\n"
      ],
      "execution_count": 0,
      "outputs": []
    },
    {
      "metadata": {
        "id": "zSk83a0z4Rhh",
        "colab_type": "code",
        "colab": {
          "autoexec": {
            "startup": false,
            "wait_interval": 0
          }
        }
      },
      "cell_type": "code",
      "source": [
        "a.shape"
      ],
      "execution_count": 0,
      "outputs": []
    },
    {
      "metadata": {
        "id": "38ssctdt37-8",
        "colab_type": "code",
        "colab": {
          "autoexec": {
            "startup": false,
            "wait_interval": 0
          }
        }
      },
      "cell_type": "code",
      "source": [
        "a = a.unsqueeze(0)\n",
        "a"
      ],
      "execution_count": 0,
      "outputs": []
    },
    {
      "metadata": {
        "id": "SoSlXknA39ZX",
        "colab_type": "code",
        "colab": {
          "autoexec": {
            "startup": false,
            "wait_interval": 0
          }
        }
      },
      "cell_type": "code",
      "source": [
        "b = torch.Tensor([1,2,3,4,5])"
      ],
      "execution_count": 0,
      "outputs": []
    },
    {
      "metadata": {
        "id": "DF9ShKfc4cbN",
        "colab_type": "code",
        "colab": {
          "autoexec": {
            "startup": false,
            "wait_interval": 0
          }
        }
      },
      "cell_type": "code",
      "source": [
        "b.view(1,-1)"
      ],
      "execution_count": 0,
      "outputs": []
    },
    {
      "metadata": {
        "id": "7N0nwRI14uim",
        "colab_type": "text"
      },
      "cell_type": "markdown",
      "source": [
        "**Testing of images**"
      ]
    },
    {
      "metadata": {
        "id": "hsoIbIVq4gng",
        "colab_type": "code",
        "colab": {
          "autoexec": {
            "startup": false,
            "wait_interval": 0
          }
        }
      },
      "cell_type": "code",
      "source": [
        "iter_test = 0\n",
        "for images, labels in test_loader:\n",
        "  iter_test +=1\n",
        "  images = Variable(images.view(-1, 28*28))\n",
        "  outputs = model(images)\n",
        "  if iter_test == 1:\n",
        "    print(\"OUTPUTS\")\n",
        "    print(outputs.size())\n",
        "    print(outputs[0, :])\n",
        "    _, predicted = torch.max(outputs.data, 1)"
      ],
      "execution_count": 0,
      "outputs": []
    },
    {
      "metadata": {
        "id": "ABExZJjt8szz",
        "colab_type": "code",
        "colab": {
          "autoexec": {
            "startup": false,
            "wait_interval": 0
          }
        }
      },
      "cell_type": "code",
      "source": [
        "show_img = test_dataset[0][0].numpy().reshape(28,28)"
      ],
      "execution_count": 0,
      "outputs": []
    },
    {
      "metadata": {
        "id": "mxzBqg3b80as",
        "colab_type": "code",
        "colab": {
          "autoexec": {
            "startup": false,
            "wait_interval": 0
          }
        }
      },
      "cell_type": "code",
      "source": [
        "plt.imshow(show_img, cmap='gray')"
      ],
      "execution_count": 0,
      "outputs": []
    },
    {
      "metadata": {
        "id": "4SSQSc6o9HO1",
        "colab_type": "code",
        "colab": {
          "autoexec": {
            "startup": false,
            "wait_interval": 0
          }
        }
      },
      "cell_type": "code",
      "source": [
        "# Label\n",
        "test_dataset[0][1]"
      ],
      "execution_count": 0,
      "outputs": []
    },
    {
      "metadata": {
        "id": "Gx1Txqmr76e5",
        "colab_type": "text"
      },
      "cell_type": "markdown",
      "source": [
        "**Save Model**"
      ]
    },
    {
      "metadata": {
        "id": "zxtsVFuE7Tat",
        "colab_type": "code",
        "colab": {
          "autoexec": {
            "startup": false,
            "wait_interval": 0
          }
        }
      },
      "cell_type": "code",
      "source": [
        "save_model = False\n",
        "if save_model is True:\n",
        "  # Save only parameters\n",
        "  torch.save(model.state_dict(), \"/content/Resources/2018/cohort2/PyTorch/Week3/data/mnist_model.pkl\")"
      ],
      "execution_count": 0,
      "outputs": []
    },
    {
      "metadata": {
        "id": "T8eTYQge-2F9",
        "colab_type": "text"
      },
      "cell_type": "markdown",
      "source": [
        "# Change to GPU : It is fine 😊😊😊😊(Take home)"
      ]
    },
    {
      "metadata": {
        "id": "DEbZQA0Q-9nA",
        "colab_type": "text"
      },
      "cell_type": "markdown",
      "source": [
        "Change **model** and **Variable**"
      ]
    }
  ]
}
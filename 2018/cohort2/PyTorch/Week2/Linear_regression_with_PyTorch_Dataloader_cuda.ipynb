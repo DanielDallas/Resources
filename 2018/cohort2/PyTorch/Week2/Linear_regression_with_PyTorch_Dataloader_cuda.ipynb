{
  "nbformat": 4,
  "nbformat_minor": 0,
  "metadata": {
    "colab": {
      "name": "Linear_regression_with_PyTorch_Dataloader_cuda.ipynb",
      "version": "0.3.2",
      "views": {},
      "default_view": {},
      "provenance": []
    },
    "kernelspec": {
      "name": "python3",
      "display_name": "Python 3"
    },
    "accelerator": "GPU"
  },
  "cells": [
    {
      "metadata": {
        "id": "lxmj05RgBtcM",
        "colab_type": "text"
      },
      "cell_type": "markdown",
      "source": [
        "# Change to **GPU : It is fine 😊😊😊😊** \n",
        "\n",
        "1.    From **Runtime**\n",
        "2.   Hardware accelerator select **GPU**.\n",
        "\n"
      ]
    },
    {
      "metadata": {
        "id": "esUv7mkwCwue",
        "colab_type": "text"
      },
      "cell_type": "markdown",
      "source": [
        "# **Installation of PyTorch**\n"
      ]
    },
    {
      "metadata": {
        "id": "rrFQOO3eCb_q",
        "colab_type": "code",
        "colab": {
          "autoexec": {
            "startup": false,
            "wait_interval": 0
          }
        }
      },
      "cell_type": "code",
      "source": [
        "from os import path\n",
        "from wheel.pep425tags import get_abbr_impl, get_impl_ver, get_abi_tag\n",
        "platform = '{}{}-{}'.format(get_abbr_impl(), get_impl_ver(), get_abi_tag())\n",
        "\n",
        "accelerator = 'cu80' if path.exists('/opt/bin/nvidia-smi') else 'cpu'\n",
        "\n",
        "!pip install -q http://download.pytorch.org/whl/{accelerator}/torch-0.3.0.post4-{platform}-linux_x86_64.whl torchvision\n"
      ],
      "execution_count": 0,
      "outputs": []
    },
    {
      "metadata": {
        "id": "ELi0EyZvrL7F",
        "colab_type": "text"
      },
      "cell_type": "markdown",
      "source": [
        "# **Numpy and PyTorch **"
      ]
    },
    {
      "metadata": {
        "id": "uRggA_9-Dpcy",
        "colab_type": "text"
      },
      "cell_type": "markdown",
      "source": [
        "**Dependencies**"
      ]
    },
    {
      "metadata": {
        "id": "rG9h0VQFC3Tm",
        "colab_type": "code",
        "colab": {
          "autoexec": {
            "startup": false,
            "wait_interval": 0
          }
        }
      },
      "cell_type": "code",
      "source": [
        "import torch \n",
        "import numpy as np"
      ],
      "execution_count": 0,
      "outputs": []
    },
    {
      "metadata": {
        "id": "kgIBQJoOEeXo",
        "colab_type": "text"
      },
      "cell_type": "markdown",
      "source": [
        " Convert array **a** = [[1,2],[3,4]] to numpy array **A** using np.array()"
      ]
    },
    {
      "metadata": {
        "id": "WIw0bmJ6E-4D",
        "colab_type": "text"
      },
      "cell_type": "markdown",
      "source": [
        "Convert A to PyTorch Tensor(**A_p**) using **torch.Tensor** "
      ]
    },
    {
      "metadata": {
        "id": "AV5EntXuGEba",
        "colab_type": "text"
      },
      "cell_type": "markdown",
      "source": [
        "Compare the datatype of **A** and **A_p**\n"
      ]
    },
    {
      "metadata": {
        "id": "1pFK4BQtHB2h",
        "colab_type": "text"
      },
      "cell_type": "markdown",
      "source": [
        "Convert Torch to Numpy using **torch_tensor.numpy()**"
      ]
    },
    {
      "metadata": {
        "id": "tiGLR7Roq19o",
        "colab_type": "text"
      },
      "cell_type": "markdown",
      "source": [
        "# **Variable**"
      ]
    },
    {
      "metadata": {
        "id": "Sla8B88GQ19X",
        "colab_type": "text"
      },
      "cell_type": "markdown",
      "source": [
        "**Variables**\n",
        "\n",
        "*     A Variable wraps a Tensor.\n",
        " \n",
        "*  Allow accumulation of gradients."
      ]
    },
    {
      "metadata": {
        "id": "D5TToF1EREsL",
        "colab_type": "text"
      },
      "cell_type": "markdown",
      "source": [
        "Import the Variable class =>** from torch.autograd import Variable**"
      ]
    },
    {
      "metadata": {
        "id": "54T9GqtSQxwN",
        "colab_type": "code",
        "colab": {
          "autoexec": {
            "startup": false,
            "wait_interval": 0
          }
        }
      },
      "cell_type": "code",
      "source": [
        "from torch.autograd import Variable"
      ],
      "execution_count": 0,
      "outputs": []
    },
    {
      "metadata": {
        "id": "N6cjlftVRfy_",
        "colab_type": "text"
      },
      "cell_type": "markdown",
      "source": [
        "1.   create **a** torch tensor of ones(2,2)\n",
        "2.   wrap in Variable(**a_V**) with r**equires_grad** for differentiability\n",
        "3. To verify with **print(a_V.requires_grad)**\n"
      ]
    },
    {
      "metadata": {
        "id": "gkaaS6udUTZO",
        "colab_type": "text"
      },
      "cell_type": "markdown",
      "source": [
        "# **CS231n example**"
      ]
    },
    {
      "metadata": {
        "id": "qdOUAwHsUvuI",
        "colab_type": "text"
      },
      "cell_type": "markdown",
      "source": [
        "**Define the leaf nodes** =====> variable_name = Variable(**Tensor_datatype**(**[numerical_value**]))\n",
        "\n",
        "*   DoubleTensor - datatype\n",
        "*   FloatTensor - datatype\n",
        "\n"
      ]
    },
    {
      "metadata": {
        "id": "VCvWqfBVUu5U",
        "colab_type": "code",
        "colab": {
          "autoexec": {
            "startup": false,
            "wait_interval": 0
          }
        }
      },
      "cell_type": "code",
      "source": [
        "#x0 = Variable(DoubleTensor([-1]))"
      ],
      "execution_count": 0,
      "outputs": []
    },
    {
      "metadata": {
        "id": "N0orfvuJkrA2",
        "colab_type": "text"
      },
      "cell_type": "markdown",
      "source": [
        "Recall: import the from datatype class. import Tensor Datatype =>** from torch import FloatTensor, DoubleTensor**"
      ]
    },
    {
      "metadata": {
        "id": "lQ_7l7H9RzrY",
        "colab_type": "code",
        "colab": {
          "autoexec": {
            "startup": false,
            "wait_interval": 0
          }
        }
      },
      "cell_type": "code",
      "source": [
        " from torch import FloatTensor, DoubleTensor"
      ],
      "execution_count": 0,
      "outputs": []
    },
    {
      "metadata": {
        "id": "iBnJN-y1YhFQ",
        "colab_type": "text"
      },
      "cell_type": "markdown",
      "source": [
        "Recall that the **nodes** are **operations**"
      ]
    },
    {
      "metadata": {
        "id": "VeLL0CXInBZ8",
        "colab_type": "text"
      },
      "cell_type": "markdown",
      "source": [
        "brackprop with** backward()**"
      ]
    },
    {
      "metadata": {
        "id": "D7XBefGxnPXp",
        "colab_type": "text"
      },
      "cell_type": "markdown",
      "source": [
        "print the operation on each intermediate node with **node.grad_fn**"
      ]
    },
    {
      "metadata": {
        "id": "rYRmAxPmnwOS",
        "colab_type": "text"
      },
      "cell_type": "markdown",
      "source": [
        "Gradient of leaf nodes(x,y,z) wr.t to last node using **node.grad**"
      ]
    },
    {
      "metadata": {
        "id": "bvyfOzqITOaR",
        "colab_type": "text"
      },
      "cell_type": "markdown",
      "source": [
        "**From cs231n**\n",
        "\n",
        "1. **add** node: gradient distributor\n",
        "2. **mu**l node: gradient switcher\n",
        "\n"
      ]
    },
    {
      "metadata": {
        "id": "0d7co51Io9LM",
        "colab_type": "text"
      },
      "cell_type": "markdown",
      "source": [
        "# **Dataloader**"
      ]
    },
    {
      "metadata": {
        "id": "oYxhPBx6pFr3",
        "colab_type": "code",
        "colab": {
          "autoexec": {
            "startup": false,
            "wait_interval": 0
          }
        }
      },
      "cell_type": "code",
      "source": [
        "import numpy as np\n",
        "import matplotlib.pyplot as plt"
      ],
      "execution_count": 0,
      "outputs": []
    },
    {
      "metadata": {
        "id": "8_hEMO_Speao",
        "colab_type": "text"
      },
      "cell_type": "markdown",
      "source": [
        "Recall from the last class with used this dataset"
      ]
    },
    {
      "metadata": {
        "id": "yvD0ls35pclY",
        "colab_type": "code",
        "colab": {
          "autoexec": {
            "startup": false,
            "wait_interval": 0
          }
        }
      },
      "cell_type": "code",
      "source": [
        "x = ([3.3,4.4,5.5,6.71,6.93,4.168,9.779,6.182,7.59,2.167,7.042,10.791,5.313,7.997,5.654,9.27,3.1])\n",
        "y = ([1.7,2.76,2.09,3.19,1.694,1.573,3.366,2.596,2.53,1.221,2.827,3.465,1.65,2.904,2.42,2.94,1.3])"
      ],
      "execution_count": 0,
      "outputs": []
    },
    {
      "metadata": {
        "id": "aJ4srXM1wB-I",
        "colab_type": "text"
      },
      "cell_type": "markdown",
      "source": [
        "Convert to numpy array using** np.array(....)** and reshape with** np.reshape(...)**"
      ]
    },
    {
      "metadata": {
        "id": "SxdCUfhnvXne",
        "colab_type": "text"
      },
      "cell_type": "markdown",
      "source": [
        "import from Dataset and DataLoader using =>** from torch.utils.data import Dataset, DataLoader**"
      ]
    },
    {
      "metadata": {
        "id": "bAtvoQOcuw49",
        "colab_type": "code",
        "colab": {
          "autoexec": {
            "startup": false,
            "wait_interval": 0
          }
        }
      },
      "cell_type": "code",
      "source": [
        ""
      ],
      "execution_count": 0,
      "outputs": []
    },
    {
      "metadata": {
        "id": "cwUviu1Yv2b6",
        "colab_type": "text"
      },
      "cell_type": "markdown",
      "source": [
        "class dataname(Dataset):\n",
        "  \n",
        "  def __init__(self):\n",
        "\n",
        "\n",
        "*   train_x(np.array**(x**), **dtype**=np.double} #download x\n",
        "*   train_y(np.array(**y**),** dtype**=np.double} #download y\n",
        "    \n",
        "\n",
        "*   self.len = train_x.shape[0]  # length of the sample\n",
        "\n",
        "*   self.x_data = torch.from_numpy(train_x).float()\n",
        "*   self.y_data = torch.from_numpy(train_y).float()\n",
        "    \n",
        " \n",
        " \n",
        " def __getitem__(self,index):\n",
        "    return self.x_data[index], self.y_data[index]\n",
        "    \n",
        "  def __len__(self):\n",
        "    return self.len\n",
        "    \n",
        "    "
      ]
    },
    {
      "metadata": {
        "id": "3qbnMv4zcO85",
        "colab_type": "code",
        "colab": {
          "autoexec": {
            "startup": false,
            "wait_interval": 0
          }
        }
      },
      "cell_type": "code",
      "source": [
        ""
      ],
      "execution_count": 0,
      "outputs": []
    },
    {
      "metadata": {
        "id": "fKmJumShzseY",
        "colab_type": "text"
      },
      "cell_type": "markdown",
      "source": [
        "Make an instance of myData class"
      ]
    },
    {
      "metadata": {
        "id": "03uhsInQzpgC",
        "colab_type": "code",
        "colab": {
          "autoexec": {
            "startup": false,
            "wait_interval": 0
          }
        }
      },
      "cell_type": "code",
      "source": [
        "... = dataname()"
      ],
      "execution_count": 0,
      "outputs": []
    },
    {
      "metadata": {
        "id": "EzmUQ4laz7-P",
        "colab_type": "text"
      },
      "cell_type": "markdown",
      "source": [
        "Feed the DataLoader \n",
        "\n",
        "\n",
        ">train_loader = DataLoader(**dataset**=....,\n",
        "                          **batch_size**=....,\n",
        "                          **shuffle**=....,\n",
        "                          **num_workers**=...)\n",
        "\n"
      ]
    },
    {
      "metadata": {
        "id": "BHdYzX4-cjap",
        "colab_type": "code",
        "colab": {
          "autoexec": {
            "startup": false,
            "wait_interval": 0
          }
        }
      },
      "cell_type": "code",
      "source": [
        ""
      ],
      "execution_count": 0,
      "outputs": []
    },
    {
      "metadata": {
        "id": "nySmgG8-cZVG",
        "colab_type": "text"
      },
      "cell_type": "markdown",
      "source": [
        "**Next Week Linear Regression bear with us**"
      ]
    },
    {
      "metadata": {
        "id": "UBXQeZe0tS_w",
        "colab_type": "code",
        "colab": {
          "autoexec": {
            "startup": false,
            "wait_interval": 0
          }
        }
      },
      "cell_type": "code",
      "source": [
        "import torch.nn as nn\n",
        "\n",
        "#Step 1: Create Model Class\n",
        "\n",
        "# Linear Regression Model\n",
        "class LinearRegression(nn.Module):\n",
        "    def __init__(self):\n",
        "        super(LinearRegression, self).__init__()\n",
        "        self.linear = nn.Linear(1, 1)  # input and output is 1 dimension\n",
        "\n",
        "    def forward(self, x):\n",
        "        out = self.linear(x)\n",
        "        return out\n",
        "      "
      ],
      "execution_count": 0,
      "outputs": []
    },
    {
      "metadata": {
        "id": "-xKaBPcutnLq",
        "colab_type": "code",
        "colab": {
          "autoexec": {
            "startup": false,
            "wait_interval": 0
          }
        }
      },
      "cell_type": "code",
      "source": [
        "#Step 2: Instantiate Model Class\n",
        "model = LinearRegression()\n",
        "\n",
        "######---------GPU---------######\n"
      ],
      "execution_count": 0,
      "outputs": []
    },
    {
      "metadata": {
        "id": "Re_8XZ4jtp47",
        "colab_type": "code",
        "colab": {
          "autoexec": {
            "startup": false,
            "wait_interval": 0
          }
        }
      },
      "cell_type": "code",
      "source": [
        "# Step 3: Instantiate loss class\n",
        "criterion = nn.MSELoss()\n",
        "learning_rate = 0.0001\n",
        "\n",
        "#Step 4: Instantiate Optimizer class\n",
        "optimizer = torch.optim.SGD(model.parameters(), lr = learning_rate)"
      ],
      "execution_count": 0,
      "outputs": []
    },
    {
      "metadata": {
        "id": "WiJoPOBvsRG3",
        "colab_type": "code",
        "colab": {
          "autoexec": {
            "startup": false,
            "wait_interval": 0
          }
        }
      },
      "cell_type": "code",
      "source": [
        "epochs = 10000\n",
        "\n",
        "for epoch in range(epochs):\n",
        "  for i, data in enumerate(train_loader, 0):\n",
        "      # get the input\n",
        "      inputs , labels = data\n",
        "      \n",
        "      ######---------GPU---------######\n",
        "      \n",
        "#      if torch.cuda.is_available():\n",
        "#        inputs, labels = Variable(inputs).cuda(), Variable(labels).cuda()\n",
        "        \n",
        "#      else:\n",
        "      if torch.cuda.is_available():\n",
        "          inputs, labels = Variable(inputs).cuda(), Variable(labels).cuda()\n",
        "      else:\n",
        "               #wrap with variable\n",
        "          inputs, labels = Variable(inputs), Variable(labels)\n",
        "  \n",
        "      \n",
        "      #Clear gradient w.r.t parameters # Flag\n",
        "      optimizer.zero_grad()\n",
        "      \n",
        "      #Forward to get output\n",
        "      outputs = model(inputs)\n",
        "      \n",
        "      #Calculate loss\n",
        "      loss = criterion(outputs, labels)\n",
        "      \n",
        "      # Getting gradients w.r.t parameters\n",
        "      loss.backward()\n",
        "    \n",
        "       #updating parameters\n",
        "      optimizer.step()\n",
        "    \n",
        "    \n",
        "      print('epoch {}, loss {}'.format(epoch, loss.data[0]))"
      ],
      "execution_count": 0,
      "outputs": []
    },
    {
      "metadata": {
        "id": "RzoacI_o698s",
        "colab_type": "code",
        "colab": {
          "autoexec": {
            "startup": false,
            "wait_interval": 0
          }
        }
      },
      "cell_type": "code",
      "source": [
        "x_T  = torch.from_numpy(x).float()\n",
        "y_T = torch.from_numpy(y).float()"
      ],
      "execution_count": 0,
      "outputs": []
    },
    {
      "metadata": {
        "id": "zUTo2MSl5nST",
        "colab_type": "code",
        "colab": {
          "autoexec": {
            "startup": false,
            "wait_interval": 0
          },
          "base_uri": "https://localhost:8080/",
          "height": 361
        },
        "outputId": "fe1dd85a-3578-4e5b-b968-f5a1e0be0117",
        "executionInfo": {
          "status": "ok",
          "timestamp": 1527303542615,
          "user_tz": -60,
          "elapsed": 877,
          "user": {
            "displayName": "George Igwegbe",
            "photoUrl": "//lh3.googleusercontent.com/-VGzYC8aUsgY/AAAAAAAAAAI/AAAAAAAAAs8/5fZKxSg6fJs/s50-c-k-no/photo.jpg",
            "userId": "117677675546471076295"
          }
        }
      },
      "cell_type": "code",
      "source": [
        "# Clear figure\n",
        "#plt.clf()\n",
        "\n",
        "# Get predictions\n",
        "predicted = model(Variable((x_T))).data.numpy()\n",
        "\n",
        "# Plot true data\n",
        "plt.plot(x_T.numpy(), y_T.numpy(), 'go', label= 'True data', alpha=.5)\n",
        "\n",
        "# Plot predictions\n",
        "plt.plot(x_T.numpy(), predicted, '--', label=\"Predictions\", alpha=.5)\n",
        "\n",
        "plt.xlabel(\"(x\")\n",
        "plt.ylabel(\" (y\")\n",
        "\n",
        "# Legend and plot\n",
        "plt.legend(loc='best')\n",
        "plt.show()"
      ],
      "execution_count": 387,
      "outputs": [
        {
          "output_type": "display_data",
          "data": {
            "image/png": "[encoded data removed]",
            "text/plain": [
              "<matplotlib.figure.Figure at 0x7f329e26ffd0>"
            ]
          },
          "metadata": {
            "tags": []
          }
        }
      ]
    },
    {
      "metadata": {
        "id": "1ekIWANY7-CB",
        "colab_type": "text"
      },
      "cell_type": "markdown",
      "source": [
        "The values of m and b can be obtained using this statement **print(model.state_dict())**"
      ]
    },
    {
      "metadata": {
        "id": "EeSbaBOL7wYk",
        "colab_type": "code",
        "colab": {
          "autoexec": {
            "startup": false,
            "wait_interval": 0
          }
        }
      },
      "cell_type": "code",
      "source": [
        "print(model.state_dict())"
      ],
      "execution_count": 0,
      "outputs": []
    },
    {
      "metadata": {
        "id": "oSd18rIM9Zjo",
        "colab_type": "text"
      },
      "cell_type": "markdown",
      "source": [
        "Therefore the equation of the line is y = **?**x + **?**"
      ]
    },
    {
      "metadata": {
        "id": "DfIy_b6ivAHx",
        "colab_type": "text"
      },
      "cell_type": "markdown",
      "source": [
        "# **CUDA**"
      ]
    },
    {
      "metadata": {
        "id": "JwrMqoe3HF4d",
        "colab_type": "text"
      },
      "cell_type": "markdown",
      "source": [
        "Testing cuda with **torch.cuda.is_available()**  😊😊😊😊"
      ]
    },
    {
      "metadata": {
        "id": "33ebIhjDvG6D",
        "colab_type": "code",
        "colab": {
          "autoexec": {
            "startup": false,
            "wait_interval": 0
          }
        }
      },
      "cell_type": "code",
      "source": [
        "# CPU \n",
        "tensor_cpu = torch.ones(3,3)"
      ],
      "execution_count": 0,
      "outputs": []
    },
    {
      "metadata": {
        "id": "khqs5Bkx7vfz",
        "colab_type": "code",
        "colab": {
          "autoexec": {
            "startup": false,
            "wait_interval": 0
          }
        }
      },
      "cell_type": "code",
      "source": [
        "# CPU to GPU\n",
        "if torch.cuda.is_available():\n",
        "    tensor_cpu.cuda()"
      ],
      "execution_count": 0,
      "outputs": []
    },
    {
      "metadata": {
        "id": "SzcInAbfGFwc",
        "colab_type": "code",
        "colab": {
          "autoexec": {
            "startup": false,
            "wait_interval": 0
          }
        }
      },
      "cell_type": "code",
      "source": [
        "#GPU to CPU\n",
        "tensor_cpu.cpu()"
      ],
      "execution_count": 0,
      "outputs": []
    },
    {
      "metadata": {
        "id": "64RcLaAzGeiU",
        "colab_type": "text"
      },
      "cell_type": "markdown",
      "source": [
        "GPU:** 2** things must be on GPU\n",
        "\n",
        "1.   **model**\n",
        "2.   **Variable**\n",
        "\n"
      ]
    },
    {
      "metadata": {
        "id": "JYxNQygzGMEN",
        "colab_type": "code",
        "colab": {
          "autoexec": {
            "startup": false,
            "wait_interval": 0
          }
        }
      },
      "cell_type": "code",
      "source": [
        "print(torch.cuda.is_available())"
      ],
      "execution_count": 0,
      "outputs": []
    },
    {
      "metadata": {
        "id": "FrkioQkkG9GJ",
        "colab_type": "code",
        "colab": {
          "autoexec": {
            "startup": false,
            "wait_interval": 0
          }
        }
      },
      "cell_type": "code",
      "source": [
        ""
      ],
      "execution_count": 0,
      "outputs": []
    }
  ]
}
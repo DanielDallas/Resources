{
 "cells": [
  {
   "cell_type": "markdown",
   "metadata": {},
   "source": [
    "# Tensorflow Overview\n",
    "\n",
    "TF is an open source software library used for high performance Numerical Computation. It originally created by the Google Brain Team as an internal machine learning tool but an implementation of it was open sourced  in Nov 2015 under Apache 2.0 Licence"
   ]
  },
  {
   "cell_type": "markdown",
   "metadata": {},
   "source": [
    "### What Makes TF So Great?\n",
    "\n",
    "- Flexibility: easy deployment of computations across multiple platforma ( CPUs, GPUs and TPUs )\n",
    "- Scalable: It was originally deployed by Google as a single infrastructure in both production and research.\n",
    "- Popularity: TF has the largest community with the higest number of repository and stars. It can be deployed both on web and mobile.\n",
    "- Widely adopted by big companies like Intel, AirBnB, Snapchat etc"
   ]
  },
  {
   "cell_type": "markdown",
   "metadata": {},
   "source": [
    "---------------------------------------------"
   ]
  },
  {
   "cell_type": "markdown",
   "metadata": {},
   "source": [
    "**We'd be majorly using CS20 course material and syllabus throughout this second AI6Lagos Cohort http://web.stanford.edu/class/cs20si/syllabus.html** <br>\n",
    "Thank you Chip and cs20 staff :)"
   ]
  },
  {
   "cell_type": "markdown",
   "metadata": {},
   "source": [
    "---------------------"
   ]
  },
  {
   "cell_type": "markdown",
   "metadata": {},
   "source": [
    "### Setup"
   ]
  },
  {
   "cell_type": "markdown",
   "metadata": {},
   "source": [
    "follow the instruction on https://www.tensorflow.org/install/\n",
    "\n",
    "If you already have TF installed and want to upgrade to the latest version <br>\n",
    "<br>\n",
    "```pip install -q --upgrade tensorflow```"
   ]
  },
  {
   "cell_type": "markdown",
   "metadata": {},
   "source": [
    "---------------------------------------------------------"
   ]
  },
  {
   "cell_type": "markdown",
   "metadata": {},
   "source": [
    "### Goals\n",
    "\n",
    "- Understand TF computation graph approach\n",
    "- Explore some of TF built-in functions and classes\n",
    "- Learn how to build and structure models best suited for a deep learning project"
   ]
  },
  {
   "cell_type": "markdown",
   "metadata": {},
   "source": [
    "------------------------------------------"
   ]
  },
  {
   "cell_type": "markdown",
   "metadata": {},
   "source": [
    "#### Getting Started"
   ]
  },
  {
   "cell_type": "code",
   "execution_count": 1,
   "metadata": {},
   "outputs": [],
   "source": [
    "import tensorflow as tf"
   ]
  },
  {
   "cell_type": "code",
   "execution_count": null,
   "metadata": {},
   "outputs": [],
   "source": [
    "tf.__version__"
   ]
  },
  {
   "cell_type": "markdown",
   "metadata": {},
   "source": [
    "------------------------------------"
   ]
  },
  {
   "cell_type": "markdown",
   "metadata": {},
   "source": [
    "#### Introduction"
   ]
  },
  {
   "cell_type": "markdown",
   "metadata": {},
   "source": [
    "Tensorflow has two major different APIs\n",
    "1. High level\n",
    "2. Low level\n",
    "\n",
    "High level Apis act as a wrapper for a lot of low level Apis. Low level means you are explicitly creating your own graphs and sessions\n",
    "<br>\n",
    "----> We'd be focusing on Low level Apis for now because it'd help us understand how things work internally once we start using high level Apis\n"
   ]
  },
  {
   "cell_type": "markdown",
   "metadata": {},
   "source": [
    "---------------------------------------------------------------------------------------"
   ]
  },
  {
   "cell_type": "markdown",
   "metadata": {},
   "source": [
    "What we'd learn:\n",
    "\n",
    "- how to manage our own tensorflow program using graphs and sessions\n",
    "- how to run tensorflow operations using sessions"
   ]
  },
  {
   "cell_type": "markdown",
   "metadata": {},
   "source": [
    "#### Tensors"
   ]
  },
  {
   "cell_type": "markdown",
   "metadata": {},
   "source": [
    "A tensor is simply some data. So TensorFlow can be seen as Data-flow i.e data moving from point A to B\n",
    "<img src=\"images/data-flow.jpg\">\n",
    "img source: [cs20](https://docs.google.com/presentation/d/1dizKPtp9hkuTwVDzoGZdYQb_61ULSsSUvaFfDFuhIc4/edit#slide=id.g1bcfa4d819_0_81)"
   ]
  },
  {
   "cell_type": "markdown",
   "metadata": {},
   "source": [
    "In the image above, each **edge** represent tensor and a **node** represent some operations. A node receives tensors and gives out tensors. <br><br>\n",
    "TF builds something called a computational graph which consists of tensors and nodes. Then you execute the graph in a session. <br>\n",
    "Unlike some deep learning frameworks, TF seperates definition of computations from its execution which leads to a non-dynamic graphs but with recent version, we will be able to build a dynamic graph in TF using something called <b>eager execution</b>"
   ]
  },
  {
   "cell_type": "markdown",
   "metadata": {},
   "source": [
    "#### How the Graph-based approach works\n",
    "- Assemble a graph\n",
    "- Use session to execute operations in the graph"
   ]
  },
  {
   "cell_type": "markdown",
   "metadata": {},
   "source": [
    "---------------------------------------------"
   ]
  },
  {
   "cell_type": "raw",
   "metadata": {},
   "source": [
    "If each edge  which is an input to a node is a tensor, We can have\n",
    "\n",
    "- 0-Dimensional -> a scalar e.g 6\n",
    "- 1-Dimensional -> a vector e.g [1, 2]\n",
    "- 2-Dimensional -> a matrix e.g [[1,2]\n",
    "                                 [4,5]]\n",
    "- N-Dimensional -> a tensor :)\n",
    "\n",
    "So, a tensor is an N-D array"
   ]
  },
  {
   "cell_type": "markdown",
   "metadata": {},
   "source": [
    "Since we get the idea of what tensor means, if I have y = 1, we can say my scalar variable y is a tensor right?\n",
    "<br>\n",
    "Exactly!"
   ]
  },
  {
   "cell_type": "markdown",
   "metadata": {},
   "source": [
    "##### Some unique attributes of Tensors\n",
    "\n",
    "1. When writing a TF program, the main object you manipulate and pass around is a tensor\n",
    "2. A tensor object is a partially defined computation that eventually produces an output\n",
    "3. Each element in the tensor object has the same data type and the data type is always known e.g float32, string or int32\n",
    "4. The shape and the number of dimension a tensor has might be only partially known but most operations produce tensors of fully known shapes if the shapes of their inputs are also fully known but in some cases it is only possible to find the shape of a tensor when you execute the graph.\n",
    "5. Tensors values cannot be manupulated once defined except tf.Variable\n",
    "\n",
    "---------------------------------------\n",
    "##### Special Tensors\n",
    "1. tf.Variable\n",
    "2. tf.constant\n",
    "3. tf.placeholder\n",
    "4. tf.SparseTensor\n",
    "--------------------------"
   ]
  },
  {
   "cell_type": "markdown",
   "metadata": {},
   "source": [
    "#### Rank 0 tensor"
   ]
  },
  {
   "cell_type": "code",
   "execution_count": 2,
   "metadata": {},
   "outputs": [],
   "source": [
    "mammal = tf.Variable(\"Elephant\", tf.string, name=\"my_elephant\")\n",
    "ignition = tf.Variable(451, tf.int16)\n",
    "floating = tf.Variable(3.14159265359, tf.float64)\n",
    "its_complicated = tf.Variable([12.3 - 4.85j, 7.5 - 6.23j], tf.complex64)"
   ]
  },
  {
   "cell_type": "code",
   "execution_count": null,
   "metadata": {},
   "outputs": [],
   "source": [
    "# this allows us to run the code interactively. More on sessions below.\n",
    "# sess = tf.InteractiveSession() \n"
   ]
  },
  {
   "cell_type": "code",
   "execution_count": 3,
   "metadata": {},
   "outputs": [
    {
     "data": {
      "text/plain": [
       "<tf.Variable 'my_elephant:0' shape=() dtype=string_ref>"
      ]
     },
     "execution_count": 3,
     "metadata": {},
     "output_type": "execute_result"
    }
   ],
   "source": [
    "# this is just some declaration, can't be executed yet\n",
    "mammal"
   ]
  },
  {
   "cell_type": "code",
   "execution_count": 4,
   "metadata": {},
   "outputs": [
    {
     "data": {
      "text/plain": [
       "TensorShape([])"
      ]
     },
     "execution_count": 4,
     "metadata": {},
     "output_type": "execute_result"
    }
   ],
   "source": [
    "mammal.get_shape()"
   ]
  },
  {
   "cell_type": "code",
   "execution_count": null,
   "metadata": {},
   "outputs": [],
   "source": [
    "# with tf.Session() as sess:\n",
    "#     sess.run(tf.initialize_all_variables())\n",
    "#     print (sess.run(mammal))"
   ]
  },
  {
   "cell_type": "code",
   "execution_count": null,
   "metadata": {},
   "outputs": [],
   "source": []
  },
  {
   "cell_type": "markdown",
   "metadata": {},
   "source": [
    "-----------------"
   ]
  },
  {
   "cell_type": "markdown",
   "metadata": {},
   "source": [
    "#### Rank 1 tensor"
   ]
  },
  {
   "cell_type": "code",
   "execution_count": null,
   "metadata": {},
   "outputs": [],
   "source": [
    "mystr = tf.Variable([\"Hello\"], tf.string)\n",
    "mystr.get_shape()"
   ]
  },
  {
   "cell_type": "markdown",
   "metadata": {},
   "source": [
    "#### Rank 2 tensor"
   ]
  },
  {
   "cell_type": "code",
   "execution_count": null,
   "metadata": {},
   "outputs": [],
   "source": [
    "mystr2 = tf.Variable([[\"Hello\"],[\"World\"]], tf.string)\n",
    "myxor = tf.Variable([[False, True],[True, False]], tf.bool)\n",
    "mystr2.get_shape()"
   ]
  },
  {
   "cell_type": "markdown",
   "metadata": {},
   "source": [
    "#### Higher Rank"
   ]
  },
  {
   "cell_type": "code",
   "execution_count": null,
   "metadata": {},
   "outputs": [],
   "source": [
    "my_image = tf.zeros([10, 299, 299, 3]) "
   ]
  },
  {
   "cell_type": "markdown",
   "metadata": {},
   "source": [
    "----------"
   ]
  },
  {
   "cell_type": "markdown",
   "metadata": {},
   "source": [
    "#### Graphs\n",
    "Computational graph is a series of TensorFlow operations arranged in a graph. It is composed of two types of Objects\n",
    "1. Tensor Objects: edges of the graph\n",
    "2. Operations (or Ops): Nodes of the graphs\n",
    "------------------------\n",
    "Let's build a graph: ->\n",
    "The most basic CG is a constant"
   ]
  },
  {
   "cell_type": "code",
   "execution_count": null,
   "metadata": {},
   "outputs": [],
   "source": [
    "a = tf.constant(3, dtype=tf.int32)\n",
    "b = tf.constant(5) # automagically figures the dtype out\n",
    "c = tf.add(a, b)"
   ]
  },
  {
   "cell_type": "markdown",
   "metadata": {},
   "source": [
    "------------------------------------------------"
   ]
  },
  {
   "cell_type": "markdown",
   "metadata": {},
   "source": [
    "Let's Visualize this using TensorBoard"
   ]
  },
  {
   "cell_type": "code",
   "execution_count": null,
   "metadata": {},
   "outputs": [],
   "source": [
    "writer = tf.summary.FileWriter('.')\n",
    "writer.add_graph(tf.get_default_graph())"
   ]
  },
  {
   "cell_type": "code",
   "execution_count": null,
   "metadata": {},
   "outputs": [],
   "source": [
    "# graph on http://localhost:6006/\n",
    "# ! tensorboard --logdir ."
   ]
  },
  {
   "cell_type": "markdown",
   "metadata": {},
   "source": [
    "### Sessions\n",
    "tf.Session() encapsulate the environment in which you can execute the `operation objects` and evaluate the `tensor objects` <br>\n",
    "\n",
    "Note: **You allocate memory to a session to store current values of variables, so it's important to close a session once its not in use**"
   ]
  },
  {
   "cell_type": "code",
   "execution_count": null,
   "metadata": {},
   "outputs": [],
   "source": [
    "sess = tf.Session()\n",
    "sess.run(c) # or c.eval()"
   ]
  },
  {
   "cell_type": "code",
   "execution_count": null,
   "metadata": {},
   "outputs": [],
   "source": [
    "# remeber to close the sess\n",
    "sess.close()"
   ]
  },
  {
   "cell_type": "code",
   "execution_count": null,
   "metadata": {},
   "outputs": [],
   "source": [
    "# or you can use context manager\n",
    "with tf.Session() as sess:\n",
    "    print (sess.run(c))"
   ]
  },
  {
   "cell_type": "code",
   "execution_count": null,
   "metadata": {
    "code_folding": []
   },
   "outputs": [],
   "source": [
    "# To keep a session interactively, we can use tf.InteractiveSession() "
   ]
  },
  {
   "cell_type": "markdown",
   "metadata": {},
   "source": [
    "-----------------------------------------------------"
   ]
  },
  {
   "cell_type": "markdown",
   "metadata": {},
   "source": [
    "#### Sub graphs"
   ]
  },
  {
   "cell_type": "code",
   "execution_count": null,
   "metadata": {},
   "outputs": [],
   "source": [
    "x = 2\n",
    "y = 3\n",
    "add_op = tf.add(x, y)\n",
    "mult_op = tf.multiply(x, y)\n",
    "pow_op = tf.pow(add_op, mult_op)\n",
    "\n",
    "with tf.Session() as sess:\n",
    "    z = sess.run(pow_op)\n",
    "    print (z)"
   ]
  },
  {
   "cell_type": "code",
   "execution_count": null,
   "metadata": {},
   "outputs": [],
   "source": [
    "writer.add_graph(tf.get_default_graph())"
   ]
  },
  {
   "cell_type": "markdown",
   "metadata": {},
   "source": [
    "<img src=\"images/graph_1.png\"></img>"
   ]
  },
  {
   "cell_type": "markdown",
   "metadata": {},
   "source": [
    "Sub graphs makes it easier to break graphs into several chunks across multiple CPUs, GPUs, TPUs and devices. This leads to distributed computations"
   ]
  },
  {
   "cell_type": "code",
   "execution_count": null,
   "metadata": {},
   "outputs": [],
   "source": [
    "with tf.device('/cpu'):\n",
    "    a = tf.constant([1.0, 2.0, 3.0, 4.0, 5.0], name='a')\n",
    "    b = tf.constant([3.0, 4.0, 9.0, 8.0, 5.0], name='b')\n",
    "    c = tf.multiply(a, b)"
   ]
  },
  {
   "cell_type": "code",
   "execution_count": null,
   "metadata": {},
   "outputs": [],
   "source": [
    "sess = tf.Session(config=tf.ConfigProto(log_device_placement=True))\n",
    "sess.run(c)"
   ]
  },
  {
   "cell_type": "code",
   "execution_count": null,
   "metadata": {},
   "outputs": [],
   "source": [
    "sess.close()"
   ]
  },
  {
   "cell_type": "markdown",
   "metadata": {},
   "source": [
    "-------------------------------"
   ]
  },
  {
   "cell_type": "markdown",
   "metadata": {},
   "source": [
    "#### What if I want to build more than one graph?"
   ]
  },
  {
   "cell_type": "markdown",
   "metadata": {},
   "source": [
    "According to [Chip](https://docs.google.com/presentation/d/1dizKPtp9hkuTwVDzoGZdYQb_61ULSsSUvaFfDFuhIc4/edit#slide=id.g1bcfa4d819_0_281) answer <br>\n",
    "You can with tf.Graph() but you don't really need more than one graph. You can build a graph that has many subgraphs.  <br>\n",
    "\n",
    "Note: **The tf.Session() runs the default graph.**"
   ]
  },
  {
   "cell_type": "markdown",
   "metadata": {},
   "source": [
    "----------------------"
   ]
  },
  {
   "cell_type": "markdown",
   "metadata": {},
   "source": [
    "#### Why I shouldn't build more than one graph?\n",
    "According to Chip's CS20 material :)\n",
    "1. Multiple graphs require multiple sessions, each will try to use all available resources by default.\n",
    "2. You can't pass data between them without passing them through python/numpy which doesn't work in distributed.\n",
    "3. It is better to have disconnected subgraphs within one graph"
   ]
  },
  {
   "cell_type": "code",
   "execution_count": 5,
   "metadata": {},
   "outputs": [],
   "source": [
    "# default graph\n",
    "g1 = tf.get_default_graph()\n",
    "\n",
    "# user created graph\n",
    "g2 = tf.Graph()\n",
    "\n",
    "\"\"\" Do not to mix default graphs and \n",
    "    user created graphs\n",
    "\"\"\"\n",
    "\n",
    "# add ops to the default graph\n",
    "with g1.as_default():\n",
    "    a = tf.constant(3)\n",
    "    c = tf.multiply(a, 4)\n",
    "\n",
    "# add ops to the user created graph\n",
    "with g2.as_default():\n",
    "    b = tf.constant(5)\n",
    "    d = tf.multiply(b, 4)"
   ]
  },
  {
   "cell_type": "code",
   "execution_count": 6,
   "metadata": {},
   "outputs": [
    {
     "name": "stdout",
     "output_type": "stream",
     "text": [
      "12\n"
     ]
    }
   ],
   "source": [
    "# evaulate graph 1\n",
    "with tf.Session() as sess:\n",
    "    print (sess.run(c))"
   ]
  },
  {
   "cell_type": "code",
   "execution_count": 8,
   "metadata": {
    "code_folding": []
   },
   "outputs": [],
   "source": [
    "# evaluate graph 2: Error!!!! ops is not an element of this graph.\n",
    "# with tf.Session() as sess:\n",
    "#     print(sess.run(d))"
   ]
  },
  {
   "cell_type": "code",
   "execution_count": null,
   "metadata": {},
   "outputs": [],
   "source": [
    "g1"
   ]
  },
  {
   "cell_type": "code",
   "execution_count": null,
   "metadata": {},
   "outputs": [],
   "source": [
    "# how do we run the user  created graph then?\n",
    "with tf.Session(graph=g2) as sess:\n",
    "    print(sess.run(d))"
   ]
  },
  {
   "cell_type": "code",
   "execution_count": null,
   "metadata": {},
   "outputs": [],
   "source": [
    "# write our user created graph to tensorboard\n",
    "# writer.add_graph(g)\n",
    "\n",
    "# run tensorboard\n",
    "# ! tensorboard --logdir ."
   ]
  },
  {
   "cell_type": "markdown",
   "metadata": {},
   "source": [
    "------------------------------------------"
   ]
  },
  {
   "cell_type": "markdown",
   "metadata": {},
   "source": [
    "#### So Why Graphs?"
   ]
  },
  {
   "cell_type": "markdown",
   "metadata": {},
   "source": [
    "Ref: CS20 & [TF documentation](https://www.tensorflow.org/programmers_guide/graphs)\n",
    "1. Saves computation i.e it only runs subgraphs that leads to the value you want to fetch\n",
    "2. It breaks computations into small differential pieces to facilitate auto-differentiation\n",
    "3. Allows you to use distributed computation by running sub graphs on multiple devices\n",
    "4. Many common ML models are taught and visuallized as directed graphs"
   ]
  },
  {
   "cell_type": "markdown",
   "metadata": {},
   "source": [
    "----------"
   ]
  },
  {
   "cell_type": "markdown",
   "metadata": {},
   "source": [
    "### Sneak Peak into Next Class"
   ]
  },
  {
   "cell_type": "markdown",
   "metadata": {},
   "source": [
    "#### feeding value to tf.placeholder()"
   ]
  },
  {
   "cell_type": "code",
   "execution_count": null,
   "metadata": {},
   "outputs": [],
   "source": [
    "# shape is unknown\n",
    "q = tf.placeholder(tf.float32)\n",
    "y = tf.add(q, q)"
   ]
  },
  {
   "cell_type": "code",
   "execution_count": null,
   "metadata": {},
   "outputs": [],
   "source": [
    "with tf.Session() as sess:\n",
    "    print (sess.run(y, feed_dict={q: 5}))"
   ]
  },
  {
   "cell_type": "markdown",
   "metadata": {},
   "source": [
    "#### Manipulating tf.Variable"
   ]
  },
  {
   "cell_type": "code",
   "execution_count": null,
   "metadata": {},
   "outputs": [],
   "source": [
    "state = tf.Variable(0, name=\"counter\")\n",
    "new_value = tf.add(state, tf.constant(1))\n",
    "update = tf.assign(state, new_value)"
   ]
  },
  {
   "cell_type": "code",
   "execution_count": null,
   "metadata": {},
   "outputs": [],
   "source": [
    "with tf.Session() as sess:\n",
    "    sess.run(tf.global_variables_initializer())\n",
    "    print (sess.run(state))\n",
    "    for _ in range(3):\n",
    "        sess.run(update)\n",
    "        print (sess.run(state))"
   ]
  },
  {
   "cell_type": "markdown",
   "metadata": {},
   "source": [
    "Note: If you're coding in low level TF APIs, you must explicitly initialize the variables <br>"
   ]
  },
  {
   "cell_type": "markdown",
   "metadata": {},
   "source": [
    "-------------"
   ]
  },
  {
   "cell_type": "markdown",
   "metadata": {},
   "source": [
    "### Next Class\n",
    "- Basic operations\n",
    "- Constants and variables\n",
    "- Data pipeline\n",
    "- Fun with TensorBoard\n",
    "- Inputting Data\n"
   ]
  },
  {
   "cell_type": "markdown",
   "metadata": {},
   "source": [
    "Credit: Stanford CS20"
   ]
  },
  {
   "cell_type": "code",
   "execution_count": null,
   "metadata": {},
   "outputs": [],
   "source": []
  }
 ],
 "metadata": {
  "kernelspec": {
   "display_name": "Python 3",
   "language": "python",
   "name": "python3"
  },
  "language_info": {
   "codemirror_mode": {
    "name": "ipython",
    "version": 3
   },
   "file_extension": ".py",
   "mimetype": "text/x-python",
   "name": "python",
   "nbconvert_exporter": "python",
   "pygments_lexer": "ipython3",
   "version": "3.5.5"
  }
 },
 "nbformat": 4,
 "nbformat_minor": 2
}
